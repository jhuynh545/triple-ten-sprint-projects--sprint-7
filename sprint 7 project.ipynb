{
 "cells": [
  {
   "cell_type": "markdown",
   "metadata": {},
   "source": [
    "# INTRODUCTION\n",
    "Megaline is a mobile carrier. They recently found out that many of their subscribers user the legacy plan. We are going to test and develop a model that will analyze subscriber's behavior and recommend one of Megaline's newer plans: Smart or Ultra. "
   ]
  },
  {
   "cell_type": "code",
   "execution_count": 1,
   "metadata": {},
   "outputs": [],
   "source": [
    "import pandas as pd\n",
    "import numpy as np\n",
    "import joblib\n",
    "from sklearn.model_selection import train_test_split, cross_val_score, GridSearchCV\n",
    "from sklearn.tree import DecisionTreeClassifier\n",
    "from sklearn.linear_model import LinearRegression, LogisticRegression, Ridge, Lasso\n",
    "from sklearn.metrics import confusion_matrix, accuracy_score, mean_squared_error, r2_score, precision_score, recall_score, f1_score\n",
    "from sklearn.dummy import DummyClassifier"
   ]
  },
  {
   "cell_type": "code",
   "execution_count": 2,
   "metadata": {},
   "outputs": [],
   "source": [
    "users_info = pd.read_csv('/datasets/users_behavior.csv')"
   ]
  },
  {
   "cell_type": "code",
   "execution_count": 3,
   "metadata": {
    "scrolled": true
   },
   "outputs": [
    {
     "name": "stdout",
     "output_type": "stream",
     "text": [
      "<class 'pandas.core.frame.DataFrame'>\n",
      "RangeIndex: 3214 entries, 0 to 3213\n",
      "Data columns (total 5 columns):\n",
      " #   Column    Non-Null Count  Dtype  \n",
      "---  ------    --------------  -----  \n",
      " 0   calls     3214 non-null   float64\n",
      " 1   minutes   3214 non-null   float64\n",
      " 2   messages  3214 non-null   float64\n",
      " 3   mb_used   3214 non-null   float64\n",
      " 4   is_ultra  3214 non-null   int64  \n",
      "dtypes: float64(4), int64(1)\n",
      "memory usage: 125.7 KB\n"
     ]
    }
   ],
   "source": [
    "users_info.info()"
   ]
  },
  {
   "cell_type": "code",
   "execution_count": 4,
   "metadata": {},
   "outputs": [
    {
     "data": {
      "text/html": [
       "<div>\n",
       "<style scoped>\n",
       "    .dataframe tbody tr th:only-of-type {\n",
       "        vertical-align: middle;\n",
       "    }\n",
       "\n",
       "    .dataframe tbody tr th {\n",
       "        vertical-align: top;\n",
       "    }\n",
       "\n",
       "    .dataframe thead th {\n",
       "        text-align: right;\n",
       "    }\n",
       "</style>\n",
       "<table border=\"1\" class=\"dataframe\">\n",
       "  <thead>\n",
       "    <tr style=\"text-align: right;\">\n",
       "      <th></th>\n",
       "      <th>calls</th>\n",
       "      <th>minutes</th>\n",
       "      <th>messages</th>\n",
       "      <th>mb_used</th>\n",
       "      <th>is_ultra</th>\n",
       "    </tr>\n",
       "  </thead>\n",
       "  <tbody>\n",
       "    <tr>\n",
       "      <th>0</th>\n",
       "      <td>40.0</td>\n",
       "      <td>311.90</td>\n",
       "      <td>83.0</td>\n",
       "      <td>19915.42</td>\n",
       "      <td>0</td>\n",
       "    </tr>\n",
       "    <tr>\n",
       "      <th>1</th>\n",
       "      <td>85.0</td>\n",
       "      <td>516.75</td>\n",
       "      <td>56.0</td>\n",
       "      <td>22696.96</td>\n",
       "      <td>0</td>\n",
       "    </tr>\n",
       "    <tr>\n",
       "      <th>2</th>\n",
       "      <td>77.0</td>\n",
       "      <td>467.66</td>\n",
       "      <td>86.0</td>\n",
       "      <td>21060.45</td>\n",
       "      <td>0</td>\n",
       "    </tr>\n",
       "    <tr>\n",
       "      <th>3</th>\n",
       "      <td>106.0</td>\n",
       "      <td>745.53</td>\n",
       "      <td>81.0</td>\n",
       "      <td>8437.39</td>\n",
       "      <td>1</td>\n",
       "    </tr>\n",
       "    <tr>\n",
       "      <th>4</th>\n",
       "      <td>66.0</td>\n",
       "      <td>418.74</td>\n",
       "      <td>1.0</td>\n",
       "      <td>14502.75</td>\n",
       "      <td>0</td>\n",
       "    </tr>\n",
       "  </tbody>\n",
       "</table>\n",
       "</div>"
      ],
      "text/plain": [
       "   calls  minutes  messages   mb_used  is_ultra\n",
       "0   40.0   311.90      83.0  19915.42         0\n",
       "1   85.0   516.75      56.0  22696.96         0\n",
       "2   77.0   467.66      86.0  21060.45         0\n",
       "3  106.0   745.53      81.0   8437.39         1\n",
       "4   66.0   418.74       1.0  14502.75         0"
      ]
     },
     "execution_count": 4,
     "metadata": {},
     "output_type": "execute_result"
    }
   ],
   "source": [
    "users_info.head()"
   ]
  },
  {
   "cell_type": "code",
   "execution_count": 5,
   "metadata": {},
   "outputs": [
    {
     "data": {
      "text/html": [
       "<div>\n",
       "<style scoped>\n",
       "    .dataframe tbody tr th:only-of-type {\n",
       "        vertical-align: middle;\n",
       "    }\n",
       "\n",
       "    .dataframe tbody tr th {\n",
       "        vertical-align: top;\n",
       "    }\n",
       "\n",
       "    .dataframe thead th {\n",
       "        text-align: right;\n",
       "    }\n",
       "</style>\n",
       "<table border=\"1\" class=\"dataframe\">\n",
       "  <thead>\n",
       "    <tr style=\"text-align: right;\">\n",
       "      <th></th>\n",
       "      <th>calls</th>\n",
       "      <th>minutes</th>\n",
       "      <th>messages</th>\n",
       "      <th>mb_used</th>\n",
       "      <th>is_ultra</th>\n",
       "    </tr>\n",
       "  </thead>\n",
       "  <tbody>\n",
       "    <tr>\n",
       "      <th>3209</th>\n",
       "      <td>122.0</td>\n",
       "      <td>910.98</td>\n",
       "      <td>20.0</td>\n",
       "      <td>35124.90</td>\n",
       "      <td>1</td>\n",
       "    </tr>\n",
       "    <tr>\n",
       "      <th>3210</th>\n",
       "      <td>25.0</td>\n",
       "      <td>190.36</td>\n",
       "      <td>0.0</td>\n",
       "      <td>3275.61</td>\n",
       "      <td>0</td>\n",
       "    </tr>\n",
       "    <tr>\n",
       "      <th>3211</th>\n",
       "      <td>97.0</td>\n",
       "      <td>634.44</td>\n",
       "      <td>70.0</td>\n",
       "      <td>13974.06</td>\n",
       "      <td>0</td>\n",
       "    </tr>\n",
       "    <tr>\n",
       "      <th>3212</th>\n",
       "      <td>64.0</td>\n",
       "      <td>462.32</td>\n",
       "      <td>90.0</td>\n",
       "      <td>31239.78</td>\n",
       "      <td>0</td>\n",
       "    </tr>\n",
       "    <tr>\n",
       "      <th>3213</th>\n",
       "      <td>80.0</td>\n",
       "      <td>566.09</td>\n",
       "      <td>6.0</td>\n",
       "      <td>29480.52</td>\n",
       "      <td>1</td>\n",
       "    </tr>\n",
       "  </tbody>\n",
       "</table>\n",
       "</div>"
      ],
      "text/plain": [
       "      calls  minutes  messages   mb_used  is_ultra\n",
       "3209  122.0   910.98      20.0  35124.90         1\n",
       "3210   25.0   190.36       0.0   3275.61         0\n",
       "3211   97.0   634.44      70.0  13974.06         0\n",
       "3212   64.0   462.32      90.0  31239.78         0\n",
       "3213   80.0   566.09       6.0  29480.52         1"
      ]
     },
     "execution_count": 5,
     "metadata": {},
     "output_type": "execute_result"
    }
   ],
   "source": [
    "users_info.tail()"
   ]
  },
  {
   "cell_type": "code",
   "execution_count": 6,
   "metadata": {},
   "outputs": [
    {
     "data": {
      "text/plain": [
       "calls       0\n",
       "minutes     0\n",
       "messages    0\n",
       "mb_used     0\n",
       "is_ultra    0\n",
       "dtype: int64"
      ]
     },
     "execution_count": 6,
     "metadata": {},
     "output_type": "execute_result"
    }
   ],
   "source": [
    "users_info.isna().sum()"
   ]
  },
  {
   "cell_type": "code",
   "execution_count": 7,
   "metadata": {},
   "outputs": [
    {
     "data": {
      "text/plain": [
       "0"
      ]
     },
     "execution_count": 7,
     "metadata": {},
     "output_type": "execute_result"
    }
   ],
   "source": [
    "users_info.duplicated().sum()"
   ]
  },
  {
   "cell_type": "markdown",
   "metadata": {},
   "source": [
    "SUMMARY ON INFO ABOVE\n",
    "- There are 3213 users and two different datatypes- float and integer.\n",
    "- The first and last 5 rows have been listed.\n",
    "- There are no missing values in the dataset.\n",
    "- There are no duplicated values in the dataset."
   ]
  },
  {
   "cell_type": "markdown",
   "metadata": {},
   "source": [
    "## \n",
    "Split the source data into a training set, a validation set, and a test set"
   ]
  },
  {
   "cell_type": "code",
   "execution_count": 8,
   "metadata": {},
   "outputs": [
    {
     "name": "stdout",
     "output_type": "stream",
     "text": [
      "Training set: (2249, 4) (2249,)\n",
      "Validation set: (482, 4) (482,)\n",
      "Test set: (483, 4) (483,)\n"
     ]
    }
   ],
   "source": [
    "# Separate features (X) and target variable (y)\n",
    "X = users_info.drop(columns=['is_ultra']) # Features: calls, minutes, messages, mb_used  \n",
    "y = users_info['is_ultra']  # Target variable: is_ultra (0 or 1)\n",
    "\n",
    "# Split the data into training and temporary (validation + test) sets\n",
    "X_train_temp, X_temp, y_train_temp, y_temp = train_test_split(X, y, test_size=0.3, random_state=42)\n",
    "\n",
    "# Split the temporary set into validation and test sets\n",
    "X_val, X_test, y_val, y_test = train_test_split(X_temp, y_temp, test_size=0.5, random_state=42)\n",
    "\n",
    "# Print the shapes of each set to verify the split\n",
    "print(\"Training set:\", X_train_temp.shape, y_train_temp.shape)\n",
    "print(\"Validation set:\", X_val.shape, y_val.shape)\n",
    "print(\"Test set:\", X_test.shape, y_test.shape)"
   ]
  },
  {
   "cell_type": "markdown",
   "metadata": {},
   "source": [
    "- Splitting into training and temporary sets: I split the entire dataset into 70% training and 30% temporary sets using 'train_test_split()' with 'test_size=0.3'.\n",
    "- Splitting the temporary set into validation and test sets: I further split the temporary set into equal halves (15% each of the original dataset size) for validation and test sets using 'train_test_split()' with 'test_size=0.5'.\n",
    "- Setting 'random_state' ensures reproducibility, so you get the same splits each time you run the code, which is crucial for consistency in model evaluation."
   ]
  },
  {
   "cell_type": "markdown",
   "metadata": {},
   "source": [
    "## \n",
    "- Investigate the quality of different models by changing hyperparameters. Briefly describe the findings of the study.\n",
    "- Check the quality of the model using the test set."
   ]
  },
  {
   "cell_type": "markdown",
   "metadata": {},
   "source": [
    "### Example of Logistic Regression"
   ]
  },
  {
   "cell_type": "code",
   "execution_count": 9,
   "metadata": {},
   "outputs": [],
   "source": [
    "# Define the function for the model\n",
    "def evaluate_model(model, X_train, y_train, X_val, y_val):\n",
    "    model.fit(X_train, y_train)\n",
    "    y_pred = model.predict(X_val)\n",
    "    accuracy = accuracy_score(y_val, y_pred)\n",
    "    precision = precision_score(y_val, y_pred)\n",
    "    recall = recall_score(y_val, y_pred)\n",
    "    f1 = f1_score(y_val, y_pred)\n",
    "    return accuracy, precision, recall, f1"
   ]
  },
  {
   "cell_type": "code",
   "execution_count": 10,
   "metadata": {},
   "outputs": [
    {
     "name": "stdout",
     "output_type": "stream",
     "text": [
      "Default Logistic Regression Performance:\n",
      "Accuracy: 0.7635\n",
      "Precision: 0.8000\n",
      "Recall: 0.2553\n",
      "F1-score: 0.3871\n"
     ]
    }
   ],
   "source": [
    "# Initialize logistic regression model\n",
    "logreg = LogisticRegression(random_state=42)\n",
    "\n",
    "# Evaluate on validation set\n",
    "accuracy, precision, recall, f1 = evaluate_model(logreg, X_train_temp, y_train_temp, X_val, y_val)\n",
    "\n",
    "# Print evaluation metrics\n",
    "print(\"Default Logistic Regression Performance:\")\n",
    "print(f\"Accuracy: {accuracy:.4f}\")\n",
    "print(f\"Precision: {precision:.4f}\")\n",
    "print(f\"Recall: {recall:.4f}\")\n",
    "print(f\"F1-score: {f1:.4f}\")"
   ]
  },
  {
   "cell_type": "code",
   "execution_count": 11,
   "metadata": {},
   "outputs": [
    {
     "name": "stdout",
     "output_type": "stream",
     "text": [
      "Fitting 5 folds for each of 48 candidates, totalling 240 fits\n"
     ]
    },
    {
     "name": "stderr",
     "output_type": "stream",
     "text": [
      "/opt/conda/envs/python3/lib/python3.9/site-packages/sklearn/model_selection/_validation.py:610: FitFailedWarning: Estimator fit failed. The score on this train-test partition for these parameters will be set to nan. Details: \n",
      "Traceback (most recent call last):\n",
      "  File \"/opt/conda/envs/python3/lib/python3.9/site-packages/sklearn/model_selection/_validation.py\", line 593, in _fit_and_score\n",
      "    estimator.fit(X_train, y_train, **fit_params)\n",
      "  File \"/opt/conda/envs/python3/lib/python3.9/site-packages/sklearn/linear_model/_logistic.py\", line 1306, in fit\n",
      "    solver = _check_solver(self.solver, self.penalty, self.dual)\n",
      "  File \"/opt/conda/envs/python3/lib/python3.9/site-packages/sklearn/linear_model/_logistic.py\", line 443, in _check_solver\n",
      "    raise ValueError(\"Solver %s supports only 'l2' or 'none' penalties, \"\n",
      "ValueError: Solver lbfgs supports only 'l2' or 'none' penalties, got l1 penalty.\n",
      "\n",
      "  warnings.warn(\"Estimator fit failed. The score on this train-test\"\n",
      "/opt/conda/envs/python3/lib/python3.9/site-packages/sklearn/model_selection/_validation.py:610: FitFailedWarning: Estimator fit failed. The score on this train-test partition for these parameters will be set to nan. Details: \n",
      "Traceback (most recent call last):\n",
      "  File \"/opt/conda/envs/python3/lib/python3.9/site-packages/sklearn/model_selection/_validation.py\", line 593, in _fit_and_score\n",
      "    estimator.fit(X_train, y_train, **fit_params)\n",
      "  File \"/opt/conda/envs/python3/lib/python3.9/site-packages/sklearn/linear_model/_logistic.py\", line 1306, in fit\n",
      "    solver = _check_solver(self.solver, self.penalty, self.dual)\n",
      "  File \"/opt/conda/envs/python3/lib/python3.9/site-packages/sklearn/linear_model/_logistic.py\", line 443, in _check_solver\n",
      "    raise ValueError(\"Solver %s supports only 'l2' or 'none' penalties, \"\n",
      "ValueError: Solver lbfgs supports only 'l2' or 'none' penalties, got l1 penalty.\n",
      "\n",
      "  warnings.warn(\"Estimator fit failed. The score on this train-test\"\n",
      "/opt/conda/envs/python3/lib/python3.9/site-packages/sklearn/model_selection/_validation.py:610: FitFailedWarning: Estimator fit failed. The score on this train-test partition for these parameters will be set to nan. Details: \n",
      "Traceback (most recent call last):\n",
      "  File \"/opt/conda/envs/python3/lib/python3.9/site-packages/sklearn/model_selection/_validation.py\", line 593, in _fit_and_score\n",
      "    estimator.fit(X_train, y_train, **fit_params)\n",
      "  File \"/opt/conda/envs/python3/lib/python3.9/site-packages/sklearn/linear_model/_logistic.py\", line 1306, in fit\n",
      "    solver = _check_solver(self.solver, self.penalty, self.dual)\n",
      "  File \"/opt/conda/envs/python3/lib/python3.9/site-packages/sklearn/linear_model/_logistic.py\", line 443, in _check_solver\n",
      "    raise ValueError(\"Solver %s supports only 'l2' or 'none' penalties, \"\n",
      "ValueError: Solver lbfgs supports only 'l2' or 'none' penalties, got l1 penalty.\n",
      "\n",
      "  warnings.warn(\"Estimator fit failed. The score on this train-test\"\n",
      "/opt/conda/envs/python3/lib/python3.9/site-packages/sklearn/model_selection/_validation.py:610: FitFailedWarning: Estimator fit failed. The score on this train-test partition for these parameters will be set to nan. Details: \n",
      "Traceback (most recent call last):\n",
      "  File \"/opt/conda/envs/python3/lib/python3.9/site-packages/sklearn/model_selection/_validation.py\", line 593, in _fit_and_score\n",
      "    estimator.fit(X_train, y_train, **fit_params)\n",
      "  File \"/opt/conda/envs/python3/lib/python3.9/site-packages/sklearn/linear_model/_logistic.py\", line 1306, in fit\n",
      "    solver = _check_solver(self.solver, self.penalty, self.dual)\n",
      "  File \"/opt/conda/envs/python3/lib/python3.9/site-packages/sklearn/linear_model/_logistic.py\", line 443, in _check_solver\n",
      "    raise ValueError(\"Solver %s supports only 'l2' or 'none' penalties, \"\n",
      "ValueError: Solver lbfgs supports only 'l2' or 'none' penalties, got l1 penalty.\n",
      "\n",
      "  warnings.warn(\"Estimator fit failed. The score on this train-test\"\n",
      "/opt/conda/envs/python3/lib/python3.9/site-packages/sklearn/model_selection/_validation.py:610: FitFailedWarning: Estimator fit failed. The score on this train-test partition for these parameters will be set to nan. Details: \n",
      "Traceback (most recent call last):\n",
      "  File \"/opt/conda/envs/python3/lib/python3.9/site-packages/sklearn/model_selection/_validation.py\", line 593, in _fit_and_score\n",
      "    estimator.fit(X_train, y_train, **fit_params)\n",
      "  File \"/opt/conda/envs/python3/lib/python3.9/site-packages/sklearn/linear_model/_logistic.py\", line 1306, in fit\n",
      "    solver = _check_solver(self.solver, self.penalty, self.dual)\n",
      "  File \"/opt/conda/envs/python3/lib/python3.9/site-packages/sklearn/linear_model/_logistic.py\", line 443, in _check_solver\n",
      "    raise ValueError(\"Solver %s supports only 'l2' or 'none' penalties, \"\n",
      "ValueError: Solver lbfgs supports only 'l2' or 'none' penalties, got l1 penalty.\n",
      "\n",
      "  warnings.warn(\"Estimator fit failed. The score on this train-test\"\n",
      "/opt/conda/envs/python3/lib/python3.9/site-packages/sklearn/model_selection/_validation.py:610: FitFailedWarning: Estimator fit failed. The score on this train-test partition for these parameters will be set to nan. Details: \n",
      "Traceback (most recent call last):\n",
      "  File \"/opt/conda/envs/python3/lib/python3.9/site-packages/sklearn/model_selection/_validation.py\", line 593, in _fit_and_score\n",
      "    estimator.fit(X_train, y_train, **fit_params)\n",
      "  File \"/opt/conda/envs/python3/lib/python3.9/site-packages/sklearn/linear_model/_logistic.py\", line 1306, in fit\n",
      "    solver = _check_solver(self.solver, self.penalty, self.dual)\n",
      "  File \"/opt/conda/envs/python3/lib/python3.9/site-packages/sklearn/linear_model/_logistic.py\", line 443, in _check_solver\n",
      "    raise ValueError(\"Solver %s supports only 'l2' or 'none' penalties, \"\n",
      "ValueError: Solver lbfgs supports only 'l2' or 'none' penalties, got l1 penalty.\n",
      "\n",
      "  warnings.warn(\"Estimator fit failed. The score on this train-test\"\n",
      "/opt/conda/envs/python3/lib/python3.9/site-packages/sklearn/model_selection/_validation.py:610: FitFailedWarning: Estimator fit failed. The score on this train-test partition for these parameters will be set to nan. Details: \n",
      "Traceback (most recent call last):\n",
      "  File \"/opt/conda/envs/python3/lib/python3.9/site-packages/sklearn/model_selection/_validation.py\", line 593, in _fit_and_score\n",
      "    estimator.fit(X_train, y_train, **fit_params)\n",
      "  File \"/opt/conda/envs/python3/lib/python3.9/site-packages/sklearn/linear_model/_logistic.py\", line 1306, in fit\n",
      "    solver = _check_solver(self.solver, self.penalty, self.dual)\n",
      "  File \"/opt/conda/envs/python3/lib/python3.9/site-packages/sklearn/linear_model/_logistic.py\", line 443, in _check_solver\n",
      "    raise ValueError(\"Solver %s supports only 'l2' or 'none' penalties, \"\n",
      "ValueError: Solver lbfgs supports only 'l2' or 'none' penalties, got l1 penalty.\n",
      "\n",
      "  warnings.warn(\"Estimator fit failed. The score on this train-test\"\n",
      "/opt/conda/envs/python3/lib/python3.9/site-packages/sklearn/model_selection/_validation.py:610: FitFailedWarning: Estimator fit failed. The score on this train-test partition for these parameters will be set to nan. Details: \n",
      "Traceback (most recent call last):\n",
      "  File \"/opt/conda/envs/python3/lib/python3.9/site-packages/sklearn/model_selection/_validation.py\", line 593, in _fit_and_score\n",
      "    estimator.fit(X_train, y_train, **fit_params)\n",
      "  File \"/opt/conda/envs/python3/lib/python3.9/site-packages/sklearn/linear_model/_logistic.py\", line 1306, in fit\n",
      "    solver = _check_solver(self.solver, self.penalty, self.dual)\n",
      "  File \"/opt/conda/envs/python3/lib/python3.9/site-packages/sklearn/linear_model/_logistic.py\", line 443, in _check_solver\n",
      "    raise ValueError(\"Solver %s supports only 'l2' or 'none' penalties, \"\n",
      "ValueError: Solver lbfgs supports only 'l2' or 'none' penalties, got l1 penalty.\n",
      "\n",
      "  warnings.warn(\"Estimator fit failed. The score on this train-test\"\n",
      "/opt/conda/envs/python3/lib/python3.9/site-packages/sklearn/model_selection/_validation.py:610: FitFailedWarning: Estimator fit failed. The score on this train-test partition for these parameters will be set to nan. Details: \n",
      "Traceback (most recent call last):\n",
      "  File \"/opt/conda/envs/python3/lib/python3.9/site-packages/sklearn/model_selection/_validation.py\", line 593, in _fit_and_score\n",
      "    estimator.fit(X_train, y_train, **fit_params)\n",
      "  File \"/opt/conda/envs/python3/lib/python3.9/site-packages/sklearn/linear_model/_logistic.py\", line 1306, in fit\n",
      "    solver = _check_solver(self.solver, self.penalty, self.dual)\n",
      "  File \"/opt/conda/envs/python3/lib/python3.9/site-packages/sklearn/linear_model/_logistic.py\", line 443, in _check_solver\n",
      "    raise ValueError(\"Solver %s supports only 'l2' or 'none' penalties, \"\n",
      "ValueError: Solver lbfgs supports only 'l2' or 'none' penalties, got l1 penalty.\n",
      "\n",
      "  warnings.warn(\"Estimator fit failed. The score on this train-test\"\n",
      "/opt/conda/envs/python3/lib/python3.9/site-packages/sklearn/model_selection/_validation.py:610: FitFailedWarning: Estimator fit failed. The score on this train-test partition for these parameters will be set to nan. Details: \n",
      "Traceback (most recent call last):\n",
      "  File \"/opt/conda/envs/python3/lib/python3.9/site-packages/sklearn/model_selection/_validation.py\", line 593, in _fit_and_score\n",
      "    estimator.fit(X_train, y_train, **fit_params)\n",
      "  File \"/opt/conda/envs/python3/lib/python3.9/site-packages/sklearn/linear_model/_logistic.py\", line 1306, in fit\n",
      "    solver = _check_solver(self.solver, self.penalty, self.dual)\n",
      "  File \"/opt/conda/envs/python3/lib/python3.9/site-packages/sklearn/linear_model/_logistic.py\", line 443, in _check_solver\n",
      "    raise ValueError(\"Solver %s supports only 'l2' or 'none' penalties, \"\n",
      "ValueError: Solver lbfgs supports only 'l2' or 'none' penalties, got l1 penalty.\n",
      "\n",
      "  warnings.warn(\"Estimator fit failed. The score on this train-test\"\n"
     ]
    },
    {
     "name": "stderr",
     "output_type": "stream",
     "text": [
      "/opt/conda/envs/python3/lib/python3.9/site-packages/sklearn/model_selection/_validation.py:610: FitFailedWarning: Estimator fit failed. The score on this train-test partition for these parameters will be set to nan. Details: \n",
      "Traceback (most recent call last):\n",
      "  File \"/opt/conda/envs/python3/lib/python3.9/site-packages/sklearn/model_selection/_validation.py\", line 593, in _fit_and_score\n",
      "    estimator.fit(X_train, y_train, **fit_params)\n",
      "  File \"/opt/conda/envs/python3/lib/python3.9/site-packages/sklearn/linear_model/_logistic.py\", line 1306, in fit\n",
      "    solver = _check_solver(self.solver, self.penalty, self.dual)\n",
      "  File \"/opt/conda/envs/python3/lib/python3.9/site-packages/sklearn/linear_model/_logistic.py\", line 443, in _check_solver\n",
      "    raise ValueError(\"Solver %s supports only 'l2' or 'none' penalties, \"\n",
      "ValueError: Solver lbfgs supports only 'l2' or 'none' penalties, got l1 penalty.\n",
      "\n",
      "  warnings.warn(\"Estimator fit failed. The score on this train-test\"\n",
      "/opt/conda/envs/python3/lib/python3.9/site-packages/sklearn/model_selection/_validation.py:610: FitFailedWarning: Estimator fit failed. The score on this train-test partition for these parameters will be set to nan. Details: \n",
      "Traceback (most recent call last):\n",
      "  File \"/opt/conda/envs/python3/lib/python3.9/site-packages/sklearn/model_selection/_validation.py\", line 593, in _fit_and_score\n",
      "    estimator.fit(X_train, y_train, **fit_params)\n",
      "  File \"/opt/conda/envs/python3/lib/python3.9/site-packages/sklearn/linear_model/_logistic.py\", line 1306, in fit\n",
      "    solver = _check_solver(self.solver, self.penalty, self.dual)\n",
      "  File \"/opt/conda/envs/python3/lib/python3.9/site-packages/sklearn/linear_model/_logistic.py\", line 443, in _check_solver\n",
      "    raise ValueError(\"Solver %s supports only 'l2' or 'none' penalties, \"\n",
      "ValueError: Solver lbfgs supports only 'l2' or 'none' penalties, got l1 penalty.\n",
      "\n",
      "  warnings.warn(\"Estimator fit failed. The score on this train-test\"\n",
      "/opt/conda/envs/python3/lib/python3.9/site-packages/sklearn/model_selection/_validation.py:610: FitFailedWarning: Estimator fit failed. The score on this train-test partition for these parameters will be set to nan. Details: \n",
      "Traceback (most recent call last):\n",
      "  File \"/opt/conda/envs/python3/lib/python3.9/site-packages/sklearn/model_selection/_validation.py\", line 593, in _fit_and_score\n",
      "    estimator.fit(X_train, y_train, **fit_params)\n",
      "  File \"/opt/conda/envs/python3/lib/python3.9/site-packages/sklearn/linear_model/_logistic.py\", line 1306, in fit\n",
      "    solver = _check_solver(self.solver, self.penalty, self.dual)\n",
      "  File \"/opt/conda/envs/python3/lib/python3.9/site-packages/sklearn/linear_model/_logistic.py\", line 443, in _check_solver\n",
      "    raise ValueError(\"Solver %s supports only 'l2' or 'none' penalties, \"\n",
      "ValueError: Solver lbfgs supports only 'l2' or 'none' penalties, got l1 penalty.\n",
      "\n",
      "  warnings.warn(\"Estimator fit failed. The score on this train-test\"\n",
      "/opt/conda/envs/python3/lib/python3.9/site-packages/sklearn/model_selection/_validation.py:610: FitFailedWarning: Estimator fit failed. The score on this train-test partition for these parameters will be set to nan. Details: \n",
      "Traceback (most recent call last):\n",
      "  File \"/opt/conda/envs/python3/lib/python3.9/site-packages/sklearn/model_selection/_validation.py\", line 593, in _fit_and_score\n",
      "    estimator.fit(X_train, y_train, **fit_params)\n",
      "  File \"/opt/conda/envs/python3/lib/python3.9/site-packages/sklearn/linear_model/_logistic.py\", line 1306, in fit\n",
      "    solver = _check_solver(self.solver, self.penalty, self.dual)\n",
      "  File \"/opt/conda/envs/python3/lib/python3.9/site-packages/sklearn/linear_model/_logistic.py\", line 443, in _check_solver\n",
      "    raise ValueError(\"Solver %s supports only 'l2' or 'none' penalties, \"\n",
      "ValueError: Solver lbfgs supports only 'l2' or 'none' penalties, got l1 penalty.\n",
      "\n",
      "  warnings.warn(\"Estimator fit failed. The score on this train-test\"\n",
      "/opt/conda/envs/python3/lib/python3.9/site-packages/sklearn/model_selection/_validation.py:610: FitFailedWarning: Estimator fit failed. The score on this train-test partition for these parameters will be set to nan. Details: \n",
      "Traceback (most recent call last):\n",
      "  File \"/opt/conda/envs/python3/lib/python3.9/site-packages/sklearn/model_selection/_validation.py\", line 593, in _fit_and_score\n",
      "    estimator.fit(X_train, y_train, **fit_params)\n",
      "  File \"/opt/conda/envs/python3/lib/python3.9/site-packages/sklearn/linear_model/_logistic.py\", line 1306, in fit\n",
      "    solver = _check_solver(self.solver, self.penalty, self.dual)\n",
      "  File \"/opt/conda/envs/python3/lib/python3.9/site-packages/sklearn/linear_model/_logistic.py\", line 443, in _check_solver\n",
      "    raise ValueError(\"Solver %s supports only 'l2' or 'none' penalties, \"\n",
      "ValueError: Solver lbfgs supports only 'l2' or 'none' penalties, got l1 penalty.\n",
      "\n",
      "  warnings.warn(\"Estimator fit failed. The score on this train-test\"\n",
      "/opt/conda/envs/python3/lib/python3.9/site-packages/sklearn/linear_model/_logistic.py:763: ConvergenceWarning: lbfgs failed to converge (status=1):\n",
      "STOP: TOTAL NO. of ITERATIONS REACHED LIMIT.\n",
      "\n",
      "Increase the number of iterations (max_iter) or scale the data as shown in:\n",
      "    https://scikit-learn.org/stable/modules/preprocessing.html\n",
      "Please also refer to the documentation for alternative solver options:\n",
      "    https://scikit-learn.org/stable/modules/linear_model.html#logistic-regression\n",
      "  n_iter_i = _check_optimize_result(\n",
      "/opt/conda/envs/python3/lib/python3.9/site-packages/sklearn/model_selection/_validation.py:610: FitFailedWarning: Estimator fit failed. The score on this train-test partition for these parameters will be set to nan. Details: \n",
      "Traceback (most recent call last):\n",
      "  File \"/opt/conda/envs/python3/lib/python3.9/site-packages/sklearn/model_selection/_validation.py\", line 593, in _fit_and_score\n",
      "    estimator.fit(X_train, y_train, **fit_params)\n",
      "  File \"/opt/conda/envs/python3/lib/python3.9/site-packages/sklearn/linear_model/_logistic.py\", line 1306, in fit\n",
      "    solver = _check_solver(self.solver, self.penalty, self.dual)\n",
      "  File \"/opt/conda/envs/python3/lib/python3.9/site-packages/sklearn/linear_model/_logistic.py\", line 443, in _check_solver\n",
      "    raise ValueError(\"Solver %s supports only 'l2' or 'none' penalties, \"\n",
      "ValueError: Solver lbfgs supports only 'l2' or 'none' penalties, got l1 penalty.\n",
      "\n",
      "  warnings.warn(\"Estimator fit failed. The score on this train-test\"\n",
      "/opt/conda/envs/python3/lib/python3.9/site-packages/sklearn/model_selection/_validation.py:610: FitFailedWarning: Estimator fit failed. The score on this train-test partition for these parameters will be set to nan. Details: \n",
      "Traceback (most recent call last):\n",
      "  File \"/opt/conda/envs/python3/lib/python3.9/site-packages/sklearn/model_selection/_validation.py\", line 593, in _fit_and_score\n",
      "    estimator.fit(X_train, y_train, **fit_params)\n",
      "  File \"/opt/conda/envs/python3/lib/python3.9/site-packages/sklearn/linear_model/_logistic.py\", line 1306, in fit\n",
      "    solver = _check_solver(self.solver, self.penalty, self.dual)\n",
      "  File \"/opt/conda/envs/python3/lib/python3.9/site-packages/sklearn/linear_model/_logistic.py\", line 443, in _check_solver\n",
      "    raise ValueError(\"Solver %s supports only 'l2' or 'none' penalties, \"\n",
      "ValueError: Solver lbfgs supports only 'l2' or 'none' penalties, got l1 penalty.\n",
      "\n",
      "  warnings.warn(\"Estimator fit failed. The score on this train-test\"\n",
      "/opt/conda/envs/python3/lib/python3.9/site-packages/sklearn/model_selection/_validation.py:610: FitFailedWarning: Estimator fit failed. The score on this train-test partition for these parameters will be set to nan. Details: \n",
      "Traceback (most recent call last):\n",
      "  File \"/opt/conda/envs/python3/lib/python3.9/site-packages/sklearn/model_selection/_validation.py\", line 593, in _fit_and_score\n",
      "    estimator.fit(X_train, y_train, **fit_params)\n",
      "  File \"/opt/conda/envs/python3/lib/python3.9/site-packages/sklearn/linear_model/_logistic.py\", line 1306, in fit\n",
      "    solver = _check_solver(self.solver, self.penalty, self.dual)\n",
      "  File \"/opt/conda/envs/python3/lib/python3.9/site-packages/sklearn/linear_model/_logistic.py\", line 443, in _check_solver\n",
      "    raise ValueError(\"Solver %s supports only 'l2' or 'none' penalties, \"\n",
      "ValueError: Solver lbfgs supports only 'l2' or 'none' penalties, got l1 penalty.\n",
      "\n",
      "  warnings.warn(\"Estimator fit failed. The score on this train-test\"\n",
      "/opt/conda/envs/python3/lib/python3.9/site-packages/sklearn/model_selection/_validation.py:610: FitFailedWarning: Estimator fit failed. The score on this train-test partition for these parameters will be set to nan. Details: \n",
      "Traceback (most recent call last):\n",
      "  File \"/opt/conda/envs/python3/lib/python3.9/site-packages/sklearn/model_selection/_validation.py\", line 593, in _fit_and_score\n",
      "    estimator.fit(X_train, y_train, **fit_params)\n",
      "  File \"/opt/conda/envs/python3/lib/python3.9/site-packages/sklearn/linear_model/_logistic.py\", line 1306, in fit\n",
      "    solver = _check_solver(self.solver, self.penalty, self.dual)\n",
      "  File \"/opt/conda/envs/python3/lib/python3.9/site-packages/sklearn/linear_model/_logistic.py\", line 443, in _check_solver\n",
      "    raise ValueError(\"Solver %s supports only 'l2' or 'none' penalties, \"\n",
      "ValueError: Solver lbfgs supports only 'l2' or 'none' penalties, got l1 penalty.\n",
      "\n",
      "  warnings.warn(\"Estimator fit failed. The score on this train-test\"\n",
      "/opt/conda/envs/python3/lib/python3.9/site-packages/sklearn/model_selection/_validation.py:610: FitFailedWarning: Estimator fit failed. The score on this train-test partition for these parameters will be set to nan. Details: \n",
      "Traceback (most recent call last):\n",
      "  File \"/opt/conda/envs/python3/lib/python3.9/site-packages/sklearn/model_selection/_validation.py\", line 593, in _fit_and_score\n",
      "    estimator.fit(X_train, y_train, **fit_params)\n",
      "  File \"/opt/conda/envs/python3/lib/python3.9/site-packages/sklearn/linear_model/_logistic.py\", line 1306, in fit\n",
      "    solver = _check_solver(self.solver, self.penalty, self.dual)\n",
      "  File \"/opt/conda/envs/python3/lib/python3.9/site-packages/sklearn/linear_model/_logistic.py\", line 443, in _check_solver\n",
      "    raise ValueError(\"Solver %s supports only 'l2' or 'none' penalties, \"\n",
      "ValueError: Solver lbfgs supports only 'l2' or 'none' penalties, got l1 penalty.\n",
      "\n",
      "  warnings.warn(\"Estimator fit failed. The score on this train-test\"\n"
     ]
    },
    {
     "name": "stderr",
     "output_type": "stream",
     "text": [
      "/opt/conda/envs/python3/lib/python3.9/site-packages/sklearn/model_selection/_validation.py:610: FitFailedWarning: Estimator fit failed. The score on this train-test partition for these parameters will be set to nan. Details: \n",
      "Traceback (most recent call last):\n",
      "  File \"/opt/conda/envs/python3/lib/python3.9/site-packages/sklearn/model_selection/_validation.py\", line 593, in _fit_and_score\n",
      "    estimator.fit(X_train, y_train, **fit_params)\n",
      "  File \"/opt/conda/envs/python3/lib/python3.9/site-packages/sklearn/linear_model/_logistic.py\", line 1306, in fit\n",
      "    solver = _check_solver(self.solver, self.penalty, self.dual)\n",
      "  File \"/opt/conda/envs/python3/lib/python3.9/site-packages/sklearn/linear_model/_logistic.py\", line 443, in _check_solver\n",
      "    raise ValueError(\"Solver %s supports only 'l2' or 'none' penalties, \"\n",
      "ValueError: Solver lbfgs supports only 'l2' or 'none' penalties, got l1 penalty.\n",
      "\n",
      "  warnings.warn(\"Estimator fit failed. The score on this train-test\"\n",
      "/opt/conda/envs/python3/lib/python3.9/site-packages/sklearn/model_selection/_validation.py:610: FitFailedWarning: Estimator fit failed. The score on this train-test partition for these parameters will be set to nan. Details: \n",
      "Traceback (most recent call last):\n",
      "  File \"/opt/conda/envs/python3/lib/python3.9/site-packages/sklearn/model_selection/_validation.py\", line 593, in _fit_and_score\n",
      "    estimator.fit(X_train, y_train, **fit_params)\n",
      "  File \"/opt/conda/envs/python3/lib/python3.9/site-packages/sklearn/linear_model/_logistic.py\", line 1306, in fit\n",
      "    solver = _check_solver(self.solver, self.penalty, self.dual)\n",
      "  File \"/opt/conda/envs/python3/lib/python3.9/site-packages/sklearn/linear_model/_logistic.py\", line 443, in _check_solver\n",
      "    raise ValueError(\"Solver %s supports only 'l2' or 'none' penalties, \"\n",
      "ValueError: Solver lbfgs supports only 'l2' or 'none' penalties, got l1 penalty.\n",
      "\n",
      "  warnings.warn(\"Estimator fit failed. The score on this train-test\"\n",
      "/opt/conda/envs/python3/lib/python3.9/site-packages/sklearn/model_selection/_validation.py:610: FitFailedWarning: Estimator fit failed. The score on this train-test partition for these parameters will be set to nan. Details: \n",
      "Traceback (most recent call last):\n",
      "  File \"/opt/conda/envs/python3/lib/python3.9/site-packages/sklearn/model_selection/_validation.py\", line 593, in _fit_and_score\n",
      "    estimator.fit(X_train, y_train, **fit_params)\n",
      "  File \"/opt/conda/envs/python3/lib/python3.9/site-packages/sklearn/linear_model/_logistic.py\", line 1306, in fit\n",
      "    solver = _check_solver(self.solver, self.penalty, self.dual)\n",
      "  File \"/opt/conda/envs/python3/lib/python3.9/site-packages/sklearn/linear_model/_logistic.py\", line 443, in _check_solver\n",
      "    raise ValueError(\"Solver %s supports only 'l2' or 'none' penalties, \"\n",
      "ValueError: Solver lbfgs supports only 'l2' or 'none' penalties, got l1 penalty.\n",
      "\n",
      "  warnings.warn(\"Estimator fit failed. The score on this train-test\"\n",
      "/opt/conda/envs/python3/lib/python3.9/site-packages/sklearn/model_selection/_validation.py:610: FitFailedWarning: Estimator fit failed. The score on this train-test partition for these parameters will be set to nan. Details: \n",
      "Traceback (most recent call last):\n",
      "  File \"/opt/conda/envs/python3/lib/python3.9/site-packages/sklearn/model_selection/_validation.py\", line 593, in _fit_and_score\n",
      "    estimator.fit(X_train, y_train, **fit_params)\n",
      "  File \"/opt/conda/envs/python3/lib/python3.9/site-packages/sklearn/linear_model/_logistic.py\", line 1306, in fit\n",
      "    solver = _check_solver(self.solver, self.penalty, self.dual)\n",
      "  File \"/opt/conda/envs/python3/lib/python3.9/site-packages/sklearn/linear_model/_logistic.py\", line 443, in _check_solver\n",
      "    raise ValueError(\"Solver %s supports only 'l2' or 'none' penalties, \"\n",
      "ValueError: Solver lbfgs supports only 'l2' or 'none' penalties, got l1 penalty.\n",
      "\n",
      "  warnings.warn(\"Estimator fit failed. The score on this train-test\"\n",
      "/opt/conda/envs/python3/lib/python3.9/site-packages/sklearn/model_selection/_validation.py:610: FitFailedWarning: Estimator fit failed. The score on this train-test partition for these parameters will be set to nan. Details: \n",
      "Traceback (most recent call last):\n",
      "  File \"/opt/conda/envs/python3/lib/python3.9/site-packages/sklearn/model_selection/_validation.py\", line 593, in _fit_and_score\n",
      "    estimator.fit(X_train, y_train, **fit_params)\n",
      "  File \"/opt/conda/envs/python3/lib/python3.9/site-packages/sklearn/linear_model/_logistic.py\", line 1306, in fit\n",
      "    solver = _check_solver(self.solver, self.penalty, self.dual)\n",
      "  File \"/opt/conda/envs/python3/lib/python3.9/site-packages/sklearn/linear_model/_logistic.py\", line 443, in _check_solver\n",
      "    raise ValueError(\"Solver %s supports only 'l2' or 'none' penalties, \"\n",
      "ValueError: Solver lbfgs supports only 'l2' or 'none' penalties, got l1 penalty.\n",
      "\n",
      "  warnings.warn(\"Estimator fit failed. The score on this train-test\"\n",
      "/opt/conda/envs/python3/lib/python3.9/site-packages/sklearn/model_selection/_validation.py:610: FitFailedWarning: Estimator fit failed. The score on this train-test partition for these parameters will be set to nan. Details: \n",
      "Traceback (most recent call last):\n",
      "  File \"/opt/conda/envs/python3/lib/python3.9/site-packages/sklearn/model_selection/_validation.py\", line 593, in _fit_and_score\n",
      "    estimator.fit(X_train, y_train, **fit_params)\n",
      "  File \"/opt/conda/envs/python3/lib/python3.9/site-packages/sklearn/linear_model/_logistic.py\", line 1306, in fit\n",
      "    solver = _check_solver(self.solver, self.penalty, self.dual)\n",
      "  File \"/opt/conda/envs/python3/lib/python3.9/site-packages/sklearn/linear_model/_logistic.py\", line 443, in _check_solver\n",
      "    raise ValueError(\"Solver %s supports only 'l2' or 'none' penalties, \"\n",
      "ValueError: Solver lbfgs supports only 'l2' or 'none' penalties, got l1 penalty.\n",
      "\n",
      "  warnings.warn(\"Estimator fit failed. The score on this train-test\"\n",
      "/opt/conda/envs/python3/lib/python3.9/site-packages/sklearn/model_selection/_validation.py:610: FitFailedWarning: Estimator fit failed. The score on this train-test partition for these parameters will be set to nan. Details: \n",
      "Traceback (most recent call last):\n",
      "  File \"/opt/conda/envs/python3/lib/python3.9/site-packages/sklearn/model_selection/_validation.py\", line 593, in _fit_and_score\n",
      "    estimator.fit(X_train, y_train, **fit_params)\n",
      "  File \"/opt/conda/envs/python3/lib/python3.9/site-packages/sklearn/linear_model/_logistic.py\", line 1306, in fit\n",
      "    solver = _check_solver(self.solver, self.penalty, self.dual)\n",
      "  File \"/opt/conda/envs/python3/lib/python3.9/site-packages/sklearn/linear_model/_logistic.py\", line 443, in _check_solver\n",
      "    raise ValueError(\"Solver %s supports only 'l2' or 'none' penalties, \"\n",
      "ValueError: Solver lbfgs supports only 'l2' or 'none' penalties, got l1 penalty.\n",
      "\n",
      "  warnings.warn(\"Estimator fit failed. The score on this train-test\"\n",
      "/opt/conda/envs/python3/lib/python3.9/site-packages/sklearn/model_selection/_validation.py:610: FitFailedWarning: Estimator fit failed. The score on this train-test partition for these parameters will be set to nan. Details: \n",
      "Traceback (most recent call last):\n",
      "  File \"/opt/conda/envs/python3/lib/python3.9/site-packages/sklearn/model_selection/_validation.py\", line 593, in _fit_and_score\n",
      "    estimator.fit(X_train, y_train, **fit_params)\n",
      "  File \"/opt/conda/envs/python3/lib/python3.9/site-packages/sklearn/linear_model/_logistic.py\", line 1306, in fit\n",
      "    solver = _check_solver(self.solver, self.penalty, self.dual)\n",
      "  File \"/opt/conda/envs/python3/lib/python3.9/site-packages/sklearn/linear_model/_logistic.py\", line 443, in _check_solver\n",
      "    raise ValueError(\"Solver %s supports only 'l2' or 'none' penalties, \"\n",
      "ValueError: Solver lbfgs supports only 'l2' or 'none' penalties, got l1 penalty.\n",
      "\n",
      "  warnings.warn(\"Estimator fit failed. The score on this train-test\"\n",
      "/opt/conda/envs/python3/lib/python3.9/site-packages/sklearn/model_selection/_validation.py:610: FitFailedWarning: Estimator fit failed. The score on this train-test partition for these parameters will be set to nan. Details: \n",
      "Traceback (most recent call last):\n",
      "  File \"/opt/conda/envs/python3/lib/python3.9/site-packages/sklearn/model_selection/_validation.py\", line 593, in _fit_and_score\n",
      "    estimator.fit(X_train, y_train, **fit_params)\n",
      "  File \"/opt/conda/envs/python3/lib/python3.9/site-packages/sklearn/linear_model/_logistic.py\", line 1306, in fit\n",
      "    solver = _check_solver(self.solver, self.penalty, self.dual)\n",
      "  File \"/opt/conda/envs/python3/lib/python3.9/site-packages/sklearn/linear_model/_logistic.py\", line 443, in _check_solver\n",
      "    raise ValueError(\"Solver %s supports only 'l2' or 'none' penalties, \"\n",
      "ValueError: Solver lbfgs supports only 'l2' or 'none' penalties, got l1 penalty.\n",
      "\n",
      "  warnings.warn(\"Estimator fit failed. The score on this train-test\"\n",
      "/opt/conda/envs/python3/lib/python3.9/site-packages/sklearn/model_selection/_validation.py:610: FitFailedWarning: Estimator fit failed. The score on this train-test partition for these parameters will be set to nan. Details: \n",
      "Traceback (most recent call last):\n",
      "  File \"/opt/conda/envs/python3/lib/python3.9/site-packages/sklearn/model_selection/_validation.py\", line 593, in _fit_and_score\n",
      "    estimator.fit(X_train, y_train, **fit_params)\n",
      "  File \"/opt/conda/envs/python3/lib/python3.9/site-packages/sklearn/linear_model/_logistic.py\", line 1306, in fit\n",
      "    solver = _check_solver(self.solver, self.penalty, self.dual)\n",
      "  File \"/opt/conda/envs/python3/lib/python3.9/site-packages/sklearn/linear_model/_logistic.py\", line 443, in _check_solver\n",
      "    raise ValueError(\"Solver %s supports only 'l2' or 'none' penalties, \"\n",
      "ValueError: Solver lbfgs supports only 'l2' or 'none' penalties, got l1 penalty.\n",
      "\n",
      "  warnings.warn(\"Estimator fit failed. The score on this train-test\"\n"
     ]
    },
    {
     "name": "stderr",
     "output_type": "stream",
     "text": [
      "/opt/conda/envs/python3/lib/python3.9/site-packages/sklearn/model_selection/_validation.py:610: FitFailedWarning: Estimator fit failed. The score on this train-test partition for these parameters will be set to nan. Details: \n",
      "Traceback (most recent call last):\n",
      "  File \"/opt/conda/envs/python3/lib/python3.9/site-packages/sklearn/model_selection/_validation.py\", line 593, in _fit_and_score\n",
      "    estimator.fit(X_train, y_train, **fit_params)\n",
      "  File \"/opt/conda/envs/python3/lib/python3.9/site-packages/sklearn/linear_model/_logistic.py\", line 1306, in fit\n",
      "    solver = _check_solver(self.solver, self.penalty, self.dual)\n",
      "  File \"/opt/conda/envs/python3/lib/python3.9/site-packages/sklearn/linear_model/_logistic.py\", line 443, in _check_solver\n",
      "    raise ValueError(\"Solver %s supports only 'l2' or 'none' penalties, \"\n",
      "ValueError: Solver lbfgs supports only 'l2' or 'none' penalties, got l1 penalty.\n",
      "\n",
      "  warnings.warn(\"Estimator fit failed. The score on this train-test\"\n",
      "/opt/conda/envs/python3/lib/python3.9/site-packages/sklearn/model_selection/_validation.py:610: FitFailedWarning: Estimator fit failed. The score on this train-test partition for these parameters will be set to nan. Details: \n",
      "Traceback (most recent call last):\n",
      "  File \"/opt/conda/envs/python3/lib/python3.9/site-packages/sklearn/model_selection/_validation.py\", line 593, in _fit_and_score\n",
      "    estimator.fit(X_train, y_train, **fit_params)\n",
      "  File \"/opt/conda/envs/python3/lib/python3.9/site-packages/sklearn/linear_model/_logistic.py\", line 1306, in fit\n",
      "    solver = _check_solver(self.solver, self.penalty, self.dual)\n",
      "  File \"/opt/conda/envs/python3/lib/python3.9/site-packages/sklearn/linear_model/_logistic.py\", line 443, in _check_solver\n",
      "    raise ValueError(\"Solver %s supports only 'l2' or 'none' penalties, \"\n",
      "ValueError: Solver lbfgs supports only 'l2' or 'none' penalties, got l1 penalty.\n",
      "\n",
      "  warnings.warn(\"Estimator fit failed. The score on this train-test\"\n",
      "/opt/conda/envs/python3/lib/python3.9/site-packages/sklearn/model_selection/_validation.py:610: FitFailedWarning: Estimator fit failed. The score on this train-test partition for these parameters will be set to nan. Details: \n",
      "Traceback (most recent call last):\n",
      "  File \"/opt/conda/envs/python3/lib/python3.9/site-packages/sklearn/model_selection/_validation.py\", line 593, in _fit_and_score\n",
      "    estimator.fit(X_train, y_train, **fit_params)\n",
      "  File \"/opt/conda/envs/python3/lib/python3.9/site-packages/sklearn/linear_model/_logistic.py\", line 1306, in fit\n",
      "    solver = _check_solver(self.solver, self.penalty, self.dual)\n",
      "  File \"/opt/conda/envs/python3/lib/python3.9/site-packages/sklearn/linear_model/_logistic.py\", line 443, in _check_solver\n",
      "    raise ValueError(\"Solver %s supports only 'l2' or 'none' penalties, \"\n",
      "ValueError: Solver lbfgs supports only 'l2' or 'none' penalties, got l1 penalty.\n",
      "\n",
      "  warnings.warn(\"Estimator fit failed. The score on this train-test\"\n",
      "/opt/conda/envs/python3/lib/python3.9/site-packages/sklearn/model_selection/_validation.py:610: FitFailedWarning: Estimator fit failed. The score on this train-test partition for these parameters will be set to nan. Details: \n",
      "Traceback (most recent call last):\n",
      "  File \"/opt/conda/envs/python3/lib/python3.9/site-packages/sklearn/model_selection/_validation.py\", line 593, in _fit_and_score\n",
      "    estimator.fit(X_train, y_train, **fit_params)\n",
      "  File \"/opt/conda/envs/python3/lib/python3.9/site-packages/sklearn/linear_model/_logistic.py\", line 1306, in fit\n",
      "    solver = _check_solver(self.solver, self.penalty, self.dual)\n",
      "  File \"/opt/conda/envs/python3/lib/python3.9/site-packages/sklearn/linear_model/_logistic.py\", line 443, in _check_solver\n",
      "    raise ValueError(\"Solver %s supports only 'l2' or 'none' penalties, \"\n",
      "ValueError: Solver lbfgs supports only 'l2' or 'none' penalties, got l1 penalty.\n",
      "\n",
      "  warnings.warn(\"Estimator fit failed. The score on this train-test\"\n",
      "/opt/conda/envs/python3/lib/python3.9/site-packages/sklearn/model_selection/_validation.py:610: FitFailedWarning: Estimator fit failed. The score on this train-test partition for these parameters will be set to nan. Details: \n",
      "Traceback (most recent call last):\n",
      "  File \"/opt/conda/envs/python3/lib/python3.9/site-packages/sklearn/model_selection/_validation.py\", line 593, in _fit_and_score\n",
      "    estimator.fit(X_train, y_train, **fit_params)\n",
      "  File \"/opt/conda/envs/python3/lib/python3.9/site-packages/sklearn/linear_model/_logistic.py\", line 1306, in fit\n",
      "    solver = _check_solver(self.solver, self.penalty, self.dual)\n",
      "  File \"/opt/conda/envs/python3/lib/python3.9/site-packages/sklearn/linear_model/_logistic.py\", line 443, in _check_solver\n",
      "    raise ValueError(\"Solver %s supports only 'l2' or 'none' penalties, \"\n",
      "ValueError: Solver lbfgs supports only 'l2' or 'none' penalties, got l1 penalty.\n",
      "\n",
      "  warnings.warn(\"Estimator fit failed. The score on this train-test\"\n",
      "/opt/conda/envs/python3/lib/python3.9/site-packages/sklearn/model_selection/_validation.py:610: FitFailedWarning: Estimator fit failed. The score on this train-test partition for these parameters will be set to nan. Details: \n",
      "Traceback (most recent call last):\n",
      "  File \"/opt/conda/envs/python3/lib/python3.9/site-packages/sklearn/model_selection/_validation.py\", line 593, in _fit_and_score\n",
      "    estimator.fit(X_train, y_train, **fit_params)\n",
      "  File \"/opt/conda/envs/python3/lib/python3.9/site-packages/sklearn/linear_model/_logistic.py\", line 1306, in fit\n",
      "    solver = _check_solver(self.solver, self.penalty, self.dual)\n",
      "  File \"/opt/conda/envs/python3/lib/python3.9/site-packages/sklearn/linear_model/_logistic.py\", line 443, in _check_solver\n",
      "    raise ValueError(\"Solver %s supports only 'l2' or 'none' penalties, \"\n",
      "ValueError: Solver lbfgs supports only 'l2' or 'none' penalties, got l1 penalty.\n",
      "\n",
      "  warnings.warn(\"Estimator fit failed. The score on this train-test\"\n",
      "/opt/conda/envs/python3/lib/python3.9/site-packages/sklearn/model_selection/_validation.py:610: FitFailedWarning: Estimator fit failed. The score on this train-test partition for these parameters will be set to nan. Details: \n",
      "Traceback (most recent call last):\n",
      "  File \"/opt/conda/envs/python3/lib/python3.9/site-packages/sklearn/model_selection/_validation.py\", line 593, in _fit_and_score\n",
      "    estimator.fit(X_train, y_train, **fit_params)\n",
      "  File \"/opt/conda/envs/python3/lib/python3.9/site-packages/sklearn/linear_model/_logistic.py\", line 1306, in fit\n",
      "    solver = _check_solver(self.solver, self.penalty, self.dual)\n",
      "  File \"/opt/conda/envs/python3/lib/python3.9/site-packages/sklearn/linear_model/_logistic.py\", line 443, in _check_solver\n",
      "    raise ValueError(\"Solver %s supports only 'l2' or 'none' penalties, \"\n",
      "ValueError: Solver lbfgs supports only 'l2' or 'none' penalties, got l1 penalty.\n",
      "\n",
      "  warnings.warn(\"Estimator fit failed. The score on this train-test\"\n",
      "/opt/conda/envs/python3/lib/python3.9/site-packages/sklearn/model_selection/_validation.py:610: FitFailedWarning: Estimator fit failed. The score on this train-test partition for these parameters will be set to nan. Details: \n",
      "Traceback (most recent call last):\n",
      "  File \"/opt/conda/envs/python3/lib/python3.9/site-packages/sklearn/model_selection/_validation.py\", line 593, in _fit_and_score\n",
      "    estimator.fit(X_train, y_train, **fit_params)\n",
      "  File \"/opt/conda/envs/python3/lib/python3.9/site-packages/sklearn/linear_model/_logistic.py\", line 1306, in fit\n",
      "    solver = _check_solver(self.solver, self.penalty, self.dual)\n",
      "  File \"/opt/conda/envs/python3/lib/python3.9/site-packages/sklearn/linear_model/_logistic.py\", line 443, in _check_solver\n",
      "    raise ValueError(\"Solver %s supports only 'l2' or 'none' penalties, \"\n",
      "ValueError: Solver lbfgs supports only 'l2' or 'none' penalties, got l1 penalty.\n",
      "\n",
      "  warnings.warn(\"Estimator fit failed. The score on this train-test\"\n",
      "/opt/conda/envs/python3/lib/python3.9/site-packages/sklearn/model_selection/_validation.py:610: FitFailedWarning: Estimator fit failed. The score on this train-test partition for these parameters will be set to nan. Details: \n",
      "Traceback (most recent call last):\n",
      "  File \"/opt/conda/envs/python3/lib/python3.9/site-packages/sklearn/model_selection/_validation.py\", line 593, in _fit_and_score\n",
      "    estimator.fit(X_train, y_train, **fit_params)\n",
      "  File \"/opt/conda/envs/python3/lib/python3.9/site-packages/sklearn/linear_model/_logistic.py\", line 1306, in fit\n",
      "    solver = _check_solver(self.solver, self.penalty, self.dual)\n",
      "  File \"/opt/conda/envs/python3/lib/python3.9/site-packages/sklearn/linear_model/_logistic.py\", line 443, in _check_solver\n",
      "    raise ValueError(\"Solver %s supports only 'l2' or 'none' penalties, \"\n",
      "ValueError: Solver lbfgs supports only 'l2' or 'none' penalties, got l1 penalty.\n",
      "\n",
      "  warnings.warn(\"Estimator fit failed. The score on this train-test\"\n",
      "/opt/conda/envs/python3/lib/python3.9/site-packages/sklearn/model_selection/_validation.py:610: FitFailedWarning: Estimator fit failed. The score on this train-test partition for these parameters will be set to nan. Details: \n",
      "Traceback (most recent call last):\n",
      "  File \"/opt/conda/envs/python3/lib/python3.9/site-packages/sklearn/model_selection/_validation.py\", line 593, in _fit_and_score\n",
      "    estimator.fit(X_train, y_train, **fit_params)\n",
      "  File \"/opt/conda/envs/python3/lib/python3.9/site-packages/sklearn/linear_model/_logistic.py\", line 1306, in fit\n",
      "    solver = _check_solver(self.solver, self.penalty, self.dual)\n",
      "  File \"/opt/conda/envs/python3/lib/python3.9/site-packages/sklearn/linear_model/_logistic.py\", line 443, in _check_solver\n",
      "    raise ValueError(\"Solver %s supports only 'l2' or 'none' penalties, \"\n",
      "ValueError: Solver lbfgs supports only 'l2' or 'none' penalties, got l1 penalty.\n",
      "\n",
      "  warnings.warn(\"Estimator fit failed. The score on this train-test\"\n"
     ]
    },
    {
     "name": "stderr",
     "output_type": "stream",
     "text": [
      "/opt/conda/envs/python3/lib/python3.9/site-packages/sklearn/model_selection/_validation.py:610: FitFailedWarning: Estimator fit failed. The score on this train-test partition for these parameters will be set to nan. Details: \n",
      "Traceback (most recent call last):\n",
      "  File \"/opt/conda/envs/python3/lib/python3.9/site-packages/sklearn/model_selection/_validation.py\", line 593, in _fit_and_score\n",
      "    estimator.fit(X_train, y_train, **fit_params)\n",
      "  File \"/opt/conda/envs/python3/lib/python3.9/site-packages/sklearn/linear_model/_logistic.py\", line 1306, in fit\n",
      "    solver = _check_solver(self.solver, self.penalty, self.dual)\n",
      "  File \"/opt/conda/envs/python3/lib/python3.9/site-packages/sklearn/linear_model/_logistic.py\", line 443, in _check_solver\n",
      "    raise ValueError(\"Solver %s supports only 'l2' or 'none' penalties, \"\n",
      "ValueError: Solver lbfgs supports only 'l2' or 'none' penalties, got l1 penalty.\n",
      "\n",
      "  warnings.warn(\"Estimator fit failed. The score on this train-test\"\n",
      "/opt/conda/envs/python3/lib/python3.9/site-packages/sklearn/model_selection/_validation.py:610: FitFailedWarning: Estimator fit failed. The score on this train-test partition for these parameters will be set to nan. Details: \n",
      "Traceback (most recent call last):\n",
      "  File \"/opt/conda/envs/python3/lib/python3.9/site-packages/sklearn/model_selection/_validation.py\", line 593, in _fit_and_score\n",
      "    estimator.fit(X_train, y_train, **fit_params)\n",
      "  File \"/opt/conda/envs/python3/lib/python3.9/site-packages/sklearn/linear_model/_logistic.py\", line 1306, in fit\n",
      "    solver = _check_solver(self.solver, self.penalty, self.dual)\n",
      "  File \"/opt/conda/envs/python3/lib/python3.9/site-packages/sklearn/linear_model/_logistic.py\", line 443, in _check_solver\n",
      "    raise ValueError(\"Solver %s supports only 'l2' or 'none' penalties, \"\n",
      "ValueError: Solver lbfgs supports only 'l2' or 'none' penalties, got l1 penalty.\n",
      "\n",
      "  warnings.warn(\"Estimator fit failed. The score on this train-test\"\n",
      "/opt/conda/envs/python3/lib/python3.9/site-packages/sklearn/model_selection/_validation.py:610: FitFailedWarning: Estimator fit failed. The score on this train-test partition for these parameters will be set to nan. Details: \n",
      "Traceback (most recent call last):\n",
      "  File \"/opt/conda/envs/python3/lib/python3.9/site-packages/sklearn/model_selection/_validation.py\", line 593, in _fit_and_score\n",
      "    estimator.fit(X_train, y_train, **fit_params)\n",
      "  File \"/opt/conda/envs/python3/lib/python3.9/site-packages/sklearn/linear_model/_logistic.py\", line 1306, in fit\n",
      "    solver = _check_solver(self.solver, self.penalty, self.dual)\n",
      "  File \"/opt/conda/envs/python3/lib/python3.9/site-packages/sklearn/linear_model/_logistic.py\", line 443, in _check_solver\n",
      "    raise ValueError(\"Solver %s supports only 'l2' or 'none' penalties, \"\n",
      "ValueError: Solver lbfgs supports only 'l2' or 'none' penalties, got l1 penalty.\n",
      "\n",
      "  warnings.warn(\"Estimator fit failed. The score on this train-test\"\n",
      "/opt/conda/envs/python3/lib/python3.9/site-packages/sklearn/model_selection/_validation.py:610: FitFailedWarning: Estimator fit failed. The score on this train-test partition for these parameters will be set to nan. Details: \n",
      "Traceback (most recent call last):\n",
      "  File \"/opt/conda/envs/python3/lib/python3.9/site-packages/sklearn/model_selection/_validation.py\", line 593, in _fit_and_score\n",
      "    estimator.fit(X_train, y_train, **fit_params)\n",
      "  File \"/opt/conda/envs/python3/lib/python3.9/site-packages/sklearn/linear_model/_logistic.py\", line 1306, in fit\n",
      "    solver = _check_solver(self.solver, self.penalty, self.dual)\n",
      "  File \"/opt/conda/envs/python3/lib/python3.9/site-packages/sklearn/linear_model/_logistic.py\", line 443, in _check_solver\n",
      "    raise ValueError(\"Solver %s supports only 'l2' or 'none' penalties, \"\n",
      "ValueError: Solver lbfgs supports only 'l2' or 'none' penalties, got l1 penalty.\n",
      "\n",
      "  warnings.warn(\"Estimator fit failed. The score on this train-test\"\n",
      "/opt/conda/envs/python3/lib/python3.9/site-packages/sklearn/model_selection/_validation.py:610: FitFailedWarning: Estimator fit failed. The score on this train-test partition for these parameters will be set to nan. Details: \n",
      "Traceback (most recent call last):\n",
      "  File \"/opt/conda/envs/python3/lib/python3.9/site-packages/sklearn/model_selection/_validation.py\", line 593, in _fit_and_score\n",
      "    estimator.fit(X_train, y_train, **fit_params)\n",
      "  File \"/opt/conda/envs/python3/lib/python3.9/site-packages/sklearn/linear_model/_logistic.py\", line 1306, in fit\n",
      "    solver = _check_solver(self.solver, self.penalty, self.dual)\n",
      "  File \"/opt/conda/envs/python3/lib/python3.9/site-packages/sklearn/linear_model/_logistic.py\", line 443, in _check_solver\n",
      "    raise ValueError(\"Solver %s supports only 'l2' or 'none' penalties, \"\n",
      "ValueError: Solver lbfgs supports only 'l2' or 'none' penalties, got l1 penalty.\n",
      "\n",
      "  warnings.warn(\"Estimator fit failed. The score on this train-test\"\n",
      "/opt/conda/envs/python3/lib/python3.9/site-packages/sklearn/model_selection/_validation.py:610: FitFailedWarning: Estimator fit failed. The score on this train-test partition for these parameters will be set to nan. Details: \n",
      "Traceback (most recent call last):\n",
      "  File \"/opt/conda/envs/python3/lib/python3.9/site-packages/sklearn/model_selection/_validation.py\", line 593, in _fit_and_score\n",
      "    estimator.fit(X_train, y_train, **fit_params)\n",
      "  File \"/opt/conda/envs/python3/lib/python3.9/site-packages/sklearn/linear_model/_logistic.py\", line 1306, in fit\n",
      "    solver = _check_solver(self.solver, self.penalty, self.dual)\n",
      "  File \"/opt/conda/envs/python3/lib/python3.9/site-packages/sklearn/linear_model/_logistic.py\", line 443, in _check_solver\n",
      "    raise ValueError(\"Solver %s supports only 'l2' or 'none' penalties, \"\n",
      "ValueError: Solver lbfgs supports only 'l2' or 'none' penalties, got l1 penalty.\n",
      "\n",
      "  warnings.warn(\"Estimator fit failed. The score on this train-test\"\n",
      "/opt/conda/envs/python3/lib/python3.9/site-packages/sklearn/model_selection/_validation.py:610: FitFailedWarning: Estimator fit failed. The score on this train-test partition for these parameters will be set to nan. Details: \n",
      "Traceback (most recent call last):\n",
      "  File \"/opt/conda/envs/python3/lib/python3.9/site-packages/sklearn/model_selection/_validation.py\", line 593, in _fit_and_score\n",
      "    estimator.fit(X_train, y_train, **fit_params)\n",
      "  File \"/opt/conda/envs/python3/lib/python3.9/site-packages/sklearn/linear_model/_logistic.py\", line 1306, in fit\n",
      "    solver = _check_solver(self.solver, self.penalty, self.dual)\n",
      "  File \"/opt/conda/envs/python3/lib/python3.9/site-packages/sklearn/linear_model/_logistic.py\", line 443, in _check_solver\n",
      "    raise ValueError(\"Solver %s supports only 'l2' or 'none' penalties, \"\n",
      "ValueError: Solver lbfgs supports only 'l2' or 'none' penalties, got l1 penalty.\n",
      "\n",
      "  warnings.warn(\"Estimator fit failed. The score on this train-test\"\n",
      "/opt/conda/envs/python3/lib/python3.9/site-packages/sklearn/model_selection/_validation.py:610: FitFailedWarning: Estimator fit failed. The score on this train-test partition for these parameters will be set to nan. Details: \n",
      "Traceback (most recent call last):\n",
      "  File \"/opt/conda/envs/python3/lib/python3.9/site-packages/sklearn/model_selection/_validation.py\", line 593, in _fit_and_score\n",
      "    estimator.fit(X_train, y_train, **fit_params)\n",
      "  File \"/opt/conda/envs/python3/lib/python3.9/site-packages/sklearn/linear_model/_logistic.py\", line 1306, in fit\n",
      "    solver = _check_solver(self.solver, self.penalty, self.dual)\n",
      "  File \"/opt/conda/envs/python3/lib/python3.9/site-packages/sklearn/linear_model/_logistic.py\", line 443, in _check_solver\n",
      "    raise ValueError(\"Solver %s supports only 'l2' or 'none' penalties, \"\n",
      "ValueError: Solver lbfgs supports only 'l2' or 'none' penalties, got l1 penalty.\n",
      "\n",
      "  warnings.warn(\"Estimator fit failed. The score on this train-test\"\n",
      "/opt/conda/envs/python3/lib/python3.9/site-packages/sklearn/model_selection/_validation.py:610: FitFailedWarning: Estimator fit failed. The score on this train-test partition for these parameters will be set to nan. Details: \n",
      "Traceback (most recent call last):\n",
      "  File \"/opt/conda/envs/python3/lib/python3.9/site-packages/sklearn/model_selection/_validation.py\", line 593, in _fit_and_score\n",
      "    estimator.fit(X_train, y_train, **fit_params)\n",
      "  File \"/opt/conda/envs/python3/lib/python3.9/site-packages/sklearn/linear_model/_logistic.py\", line 1306, in fit\n",
      "    solver = _check_solver(self.solver, self.penalty, self.dual)\n",
      "  File \"/opt/conda/envs/python3/lib/python3.9/site-packages/sklearn/linear_model/_logistic.py\", line 443, in _check_solver\n",
      "    raise ValueError(\"Solver %s supports only 'l2' or 'none' penalties, \"\n",
      "ValueError: Solver lbfgs supports only 'l2' or 'none' penalties, got l1 penalty.\n",
      "\n",
      "  warnings.warn(\"Estimator fit failed. The score on this train-test\"\n",
      "/opt/conda/envs/python3/lib/python3.9/site-packages/sklearn/model_selection/_validation.py:610: FitFailedWarning: Estimator fit failed. The score on this train-test partition for these parameters will be set to nan. Details: \n",
      "Traceback (most recent call last):\n",
      "  File \"/opt/conda/envs/python3/lib/python3.9/site-packages/sklearn/model_selection/_validation.py\", line 593, in _fit_and_score\n",
      "    estimator.fit(X_train, y_train, **fit_params)\n",
      "  File \"/opt/conda/envs/python3/lib/python3.9/site-packages/sklearn/linear_model/_logistic.py\", line 1306, in fit\n",
      "    solver = _check_solver(self.solver, self.penalty, self.dual)\n",
      "  File \"/opt/conda/envs/python3/lib/python3.9/site-packages/sklearn/linear_model/_logistic.py\", line 443, in _check_solver\n",
      "    raise ValueError(\"Solver %s supports only 'l2' or 'none' penalties, \"\n",
      "ValueError: Solver lbfgs supports only 'l2' or 'none' penalties, got l1 penalty.\n",
      "\n",
      "  warnings.warn(\"Estimator fit failed. The score on this train-test\"\n",
      "/opt/conda/envs/python3/lib/python3.9/site-packages/sklearn/linear_model/_logistic.py:763: ConvergenceWarning: lbfgs failed to converge (status=1):\n",
      "STOP: TOTAL NO. of ITERATIONS REACHED LIMIT.\n",
      "\n",
      "Increase the number of iterations (max_iter) or scale the data as shown in:\n",
      "    https://scikit-learn.org/stable/modules/preprocessing.html\n",
      "Please also refer to the documentation for alternative solver options:\n",
      "    https://scikit-learn.org/stable/modules/linear_model.html#logistic-regression\n",
      "  n_iter_i = _check_optimize_result(\n"
     ]
    },
    {
     "name": "stderr",
     "output_type": "stream",
     "text": [
      "/opt/conda/envs/python3/lib/python3.9/site-packages/sklearn/model_selection/_validation.py:610: FitFailedWarning: Estimator fit failed. The score on this train-test partition for these parameters will be set to nan. Details: \n",
      "Traceback (most recent call last):\n",
      "  File \"/opt/conda/envs/python3/lib/python3.9/site-packages/sklearn/model_selection/_validation.py\", line 593, in _fit_and_score\n",
      "    estimator.fit(X_train, y_train, **fit_params)\n",
      "  File \"/opt/conda/envs/python3/lib/python3.9/site-packages/sklearn/linear_model/_logistic.py\", line 1306, in fit\n",
      "    solver = _check_solver(self.solver, self.penalty, self.dual)\n",
      "  File \"/opt/conda/envs/python3/lib/python3.9/site-packages/sklearn/linear_model/_logistic.py\", line 443, in _check_solver\n",
      "    raise ValueError(\"Solver %s supports only 'l2' or 'none' penalties, \"\n",
      "ValueError: Solver lbfgs supports only 'l2' or 'none' penalties, got l1 penalty.\n",
      "\n",
      "  warnings.warn(\"Estimator fit failed. The score on this train-test\"\n",
      "/opt/conda/envs/python3/lib/python3.9/site-packages/sklearn/model_selection/_validation.py:610: FitFailedWarning: Estimator fit failed. The score on this train-test partition for these parameters will be set to nan. Details: \n",
      "Traceback (most recent call last):\n",
      "  File \"/opt/conda/envs/python3/lib/python3.9/site-packages/sklearn/model_selection/_validation.py\", line 593, in _fit_and_score\n",
      "    estimator.fit(X_train, y_train, **fit_params)\n",
      "  File \"/opt/conda/envs/python3/lib/python3.9/site-packages/sklearn/linear_model/_logistic.py\", line 1306, in fit\n",
      "    solver = _check_solver(self.solver, self.penalty, self.dual)\n",
      "  File \"/opt/conda/envs/python3/lib/python3.9/site-packages/sklearn/linear_model/_logistic.py\", line 443, in _check_solver\n",
      "    raise ValueError(\"Solver %s supports only 'l2' or 'none' penalties, \"\n",
      "ValueError: Solver lbfgs supports only 'l2' or 'none' penalties, got l1 penalty.\n",
      "\n",
      "  warnings.warn(\"Estimator fit failed. The score on this train-test\"\n",
      "/opt/conda/envs/python3/lib/python3.9/site-packages/sklearn/model_selection/_validation.py:610: FitFailedWarning: Estimator fit failed. The score on this train-test partition for these parameters will be set to nan. Details: \n",
      "Traceback (most recent call last):\n",
      "  File \"/opt/conda/envs/python3/lib/python3.9/site-packages/sklearn/model_selection/_validation.py\", line 593, in _fit_and_score\n",
      "    estimator.fit(X_train, y_train, **fit_params)\n",
      "  File \"/opt/conda/envs/python3/lib/python3.9/site-packages/sklearn/linear_model/_logistic.py\", line 1306, in fit\n",
      "    solver = _check_solver(self.solver, self.penalty, self.dual)\n",
      "  File \"/opt/conda/envs/python3/lib/python3.9/site-packages/sklearn/linear_model/_logistic.py\", line 443, in _check_solver\n",
      "    raise ValueError(\"Solver %s supports only 'l2' or 'none' penalties, \"\n",
      "ValueError: Solver lbfgs supports only 'l2' or 'none' penalties, got l1 penalty.\n",
      "\n",
      "  warnings.warn(\"Estimator fit failed. The score on this train-test\"\n",
      "/opt/conda/envs/python3/lib/python3.9/site-packages/sklearn/model_selection/_validation.py:610: FitFailedWarning: Estimator fit failed. The score on this train-test partition for these parameters will be set to nan. Details: \n",
      "Traceback (most recent call last):\n",
      "  File \"/opt/conda/envs/python3/lib/python3.9/site-packages/sklearn/model_selection/_validation.py\", line 593, in _fit_and_score\n",
      "    estimator.fit(X_train, y_train, **fit_params)\n",
      "  File \"/opt/conda/envs/python3/lib/python3.9/site-packages/sklearn/linear_model/_logistic.py\", line 1306, in fit\n",
      "    solver = _check_solver(self.solver, self.penalty, self.dual)\n",
      "  File \"/opt/conda/envs/python3/lib/python3.9/site-packages/sklearn/linear_model/_logistic.py\", line 443, in _check_solver\n",
      "    raise ValueError(\"Solver %s supports only 'l2' or 'none' penalties, \"\n",
      "ValueError: Solver lbfgs supports only 'l2' or 'none' penalties, got l1 penalty.\n",
      "\n",
      "  warnings.warn(\"Estimator fit failed. The score on this train-test\"\n",
      "/opt/conda/envs/python3/lib/python3.9/site-packages/sklearn/model_selection/_validation.py:610: FitFailedWarning: Estimator fit failed. The score on this train-test partition for these parameters will be set to nan. Details: \n",
      "Traceback (most recent call last):\n",
      "  File \"/opt/conda/envs/python3/lib/python3.9/site-packages/sklearn/model_selection/_validation.py\", line 593, in _fit_and_score\n",
      "    estimator.fit(X_train, y_train, **fit_params)\n",
      "  File \"/opt/conda/envs/python3/lib/python3.9/site-packages/sklearn/linear_model/_logistic.py\", line 1306, in fit\n",
      "    solver = _check_solver(self.solver, self.penalty, self.dual)\n",
      "  File \"/opt/conda/envs/python3/lib/python3.9/site-packages/sklearn/linear_model/_logistic.py\", line 443, in _check_solver\n",
      "    raise ValueError(\"Solver %s supports only 'l2' or 'none' penalties, \"\n",
      "ValueError: Solver lbfgs supports only 'l2' or 'none' penalties, got l1 penalty.\n",
      "\n",
      "  warnings.warn(\"Estimator fit failed. The score on this train-test\"\n",
      "/opt/conda/envs/python3/lib/python3.9/site-packages/sklearn/model_selection/_validation.py:610: FitFailedWarning: Estimator fit failed. The score on this train-test partition for these parameters will be set to nan. Details: \n",
      "Traceback (most recent call last):\n",
      "  File \"/opt/conda/envs/python3/lib/python3.9/site-packages/sklearn/model_selection/_validation.py\", line 593, in _fit_and_score\n",
      "    estimator.fit(X_train, y_train, **fit_params)\n",
      "  File \"/opt/conda/envs/python3/lib/python3.9/site-packages/sklearn/linear_model/_logistic.py\", line 1306, in fit\n",
      "    solver = _check_solver(self.solver, self.penalty, self.dual)\n",
      "  File \"/opt/conda/envs/python3/lib/python3.9/site-packages/sklearn/linear_model/_logistic.py\", line 443, in _check_solver\n",
      "    raise ValueError(\"Solver %s supports only 'l2' or 'none' penalties, \"\n",
      "ValueError: Solver lbfgs supports only 'l2' or 'none' penalties, got l1 penalty.\n",
      "\n",
      "  warnings.warn(\"Estimator fit failed. The score on this train-test\"\n",
      "/opt/conda/envs/python3/lib/python3.9/site-packages/sklearn/model_selection/_validation.py:610: FitFailedWarning: Estimator fit failed. The score on this train-test partition for these parameters will be set to nan. Details: \n",
      "Traceback (most recent call last):\n",
      "  File \"/opt/conda/envs/python3/lib/python3.9/site-packages/sklearn/model_selection/_validation.py\", line 593, in _fit_and_score\n",
      "    estimator.fit(X_train, y_train, **fit_params)\n",
      "  File \"/opt/conda/envs/python3/lib/python3.9/site-packages/sklearn/linear_model/_logistic.py\", line 1306, in fit\n",
      "    solver = _check_solver(self.solver, self.penalty, self.dual)\n",
      "  File \"/opt/conda/envs/python3/lib/python3.9/site-packages/sklearn/linear_model/_logistic.py\", line 443, in _check_solver\n",
      "    raise ValueError(\"Solver %s supports only 'l2' or 'none' penalties, \"\n",
      "ValueError: Solver lbfgs supports only 'l2' or 'none' penalties, got l1 penalty.\n",
      "\n",
      "  warnings.warn(\"Estimator fit failed. The score on this train-test\"\n",
      "/opt/conda/envs/python3/lib/python3.9/site-packages/sklearn/model_selection/_validation.py:610: FitFailedWarning: Estimator fit failed. The score on this train-test partition for these parameters will be set to nan. Details: \n",
      "Traceback (most recent call last):\n",
      "  File \"/opt/conda/envs/python3/lib/python3.9/site-packages/sklearn/model_selection/_validation.py\", line 593, in _fit_and_score\n",
      "    estimator.fit(X_train, y_train, **fit_params)\n",
      "  File \"/opt/conda/envs/python3/lib/python3.9/site-packages/sklearn/linear_model/_logistic.py\", line 1306, in fit\n",
      "    solver = _check_solver(self.solver, self.penalty, self.dual)\n",
      "  File \"/opt/conda/envs/python3/lib/python3.9/site-packages/sklearn/linear_model/_logistic.py\", line 443, in _check_solver\n",
      "    raise ValueError(\"Solver %s supports only 'l2' or 'none' penalties, \"\n",
      "ValueError: Solver lbfgs supports only 'l2' or 'none' penalties, got l1 penalty.\n",
      "\n",
      "  warnings.warn(\"Estimator fit failed. The score on this train-test\"\n",
      "/opt/conda/envs/python3/lib/python3.9/site-packages/sklearn/model_selection/_validation.py:610: FitFailedWarning: Estimator fit failed. The score on this train-test partition for these parameters will be set to nan. Details: \n",
      "Traceback (most recent call last):\n",
      "  File \"/opt/conda/envs/python3/lib/python3.9/site-packages/sklearn/model_selection/_validation.py\", line 593, in _fit_and_score\n",
      "    estimator.fit(X_train, y_train, **fit_params)\n",
      "  File \"/opt/conda/envs/python3/lib/python3.9/site-packages/sklearn/linear_model/_logistic.py\", line 1306, in fit\n",
      "    solver = _check_solver(self.solver, self.penalty, self.dual)\n",
      "  File \"/opt/conda/envs/python3/lib/python3.9/site-packages/sklearn/linear_model/_logistic.py\", line 443, in _check_solver\n",
      "    raise ValueError(\"Solver %s supports only 'l2' or 'none' penalties, \"\n",
      "ValueError: Solver lbfgs supports only 'l2' or 'none' penalties, got l1 penalty.\n",
      "\n",
      "  warnings.warn(\"Estimator fit failed. The score on this train-test\"\n",
      "/opt/conda/envs/python3/lib/python3.9/site-packages/sklearn/model_selection/_validation.py:610: FitFailedWarning: Estimator fit failed. The score on this train-test partition for these parameters will be set to nan. Details: \n",
      "Traceback (most recent call last):\n",
      "  File \"/opt/conda/envs/python3/lib/python3.9/site-packages/sklearn/model_selection/_validation.py\", line 593, in _fit_and_score\n",
      "    estimator.fit(X_train, y_train, **fit_params)\n",
      "  File \"/opt/conda/envs/python3/lib/python3.9/site-packages/sklearn/linear_model/_logistic.py\", line 1306, in fit\n",
      "    solver = _check_solver(self.solver, self.penalty, self.dual)\n",
      "  File \"/opt/conda/envs/python3/lib/python3.9/site-packages/sklearn/linear_model/_logistic.py\", line 443, in _check_solver\n",
      "    raise ValueError(\"Solver %s supports only 'l2' or 'none' penalties, \"\n",
      "ValueError: Solver lbfgs supports only 'l2' or 'none' penalties, got l1 penalty.\n",
      "\n",
      "  warnings.warn(\"Estimator fit failed. The score on this train-test\"\n"
     ]
    },
    {
     "name": "stdout",
     "output_type": "stream",
     "text": [
      "Best Hyperparameters: {'C': 0.001, 'class_weight': None, 'penalty': 'l1', 'solver': 'liblinear'}\n",
      "\n",
      "Best Logistic Regression Performance:\n",
      "Accuracy: 0.7033\n",
      "Precision: 0.3333\n",
      "Recall: 0.0142\n",
      "F1-score: 0.0272\n"
     ]
    },
    {
     "name": "stderr",
     "output_type": "stream",
     "text": [
      "/opt/conda/envs/python3/lib/python3.9/site-packages/sklearn/model_selection/_search.py:918: UserWarning: One or more of the test scores are non-finite: [0.70164514        nan 0.71231774 0.73011235 0.34458599        nan\n",
      " 0.43351547 0.49305122 0.70564712        nan 0.71098144 0.73100124\n",
      " 0.38416036        nan 0.54378718 0.45349864 0.7443316         nan\n",
      " 0.71409156 0.72522346 0.63450631        nan 0.61804306 0.49616531\n",
      " 0.74611235        nan 0.72344172 0.72522346 0.64161742        nan\n",
      " 0.62559861 0.64161742 0.74611235        nan 0.72966394 0.72522346\n",
      " 0.64117298        nan 0.63895075 0.64161742 0.74611235        nan\n",
      " 0.72966394 0.72522346 0.64161742        nan 0.63406187 0.64161742]\n",
      "  warnings.warn(\n"
     ]
    }
   ],
   "source": [
    "# Define hyperparameters to search over\n",
    "param_grid = {\n",
    "    'C': [0.001, 0.01, 0.1, 1, 10, 100],  # regularization parameter\n",
    "    'penalty': ['l1', 'l2'],              # regularization type\n",
    "    'solver': ['liblinear', 'lbfgs'],     # algorithm to use in optimization problem\n",
    "    'class_weight': [None, 'balanced']    # weights associated with classes\n",
    "}\n",
    "\n",
    "# Initialize GridSearchCV\n",
    "grid_search = GridSearchCV(estimator=LogisticRegression(random_state=42),\n",
    "                           param_grid=param_grid,\n",
    "                           cv=5,  # 5-fold cross-validation\n",
    "                           scoring='accuracy',\n",
    "                           verbose=1,\n",
    "                           n_jobs=-1)\n",
    "\n",
    "# Perform grid search to find best hyperparameters\n",
    "grid_search.fit(X_train_temp, y_train_temp)\n",
    "\n",
    "# Get the best model\n",
    "best_logreg = grid_search.best_estimator_\n",
    "\n",
    "# Print best hyperparameters found\n",
    "print(\"Best Hyperparameters:\", grid_search.best_params_)\n",
    "\n",
    "# Evaluate model with best hyperparameters on validation set\n",
    "best_model = grid_search.best_estimator_\n",
    "accuracy, precision, recall, f1 = evaluate_model(best_model, X_train_temp, y_train_temp, X_val, y_val)\n",
    "\n",
    "# Print evaluation metrics\n",
    "print(\"\\nBest Logistic Regression Performance:\")\n",
    "print(f\"Accuracy: {accuracy:.4f}\")\n",
    "print(f\"Precision: {precision:.4f}\")\n",
    "print(f\"Recall: {recall:.4f}\")\n",
    "print(f\"F1-score: {f1:.4f}\")"
   ]
  },
  {
   "cell_type": "markdown",
   "metadata": {},
   "source": [
    "### Example of linear regression"
   ]
  },
  {
   "cell_type": "code",
   "execution_count": 12,
   "metadata": {},
   "outputs": [],
   "source": [
    "# Define the function for the model\n",
    "def evaluate_model(model, X_train, y_train, X_val, y_val):\n",
    "    model.fit(X_train, y_train)\n",
    "    y_pred = model.predict(X_val)\n",
    "    mse = mean_squared_error(y_val, y_pred)\n",
    "    r2 = r2_score(y_val, y_pred)\n",
    "    return mse, r2"
   ]
  },
  {
   "cell_type": "code",
   "execution_count": 13,
   "metadata": {},
   "outputs": [
    {
     "name": "stdout",
     "output_type": "stream",
     "text": [
      "Default Linear Regression Performance:\n",
      "Mean Squared Error (MSE): 0.2019\n",
      "R-squared (R2): 0.0660\n"
     ]
    }
   ],
   "source": [
    "# Initialize linear regression model\n",
    "linreg = LinearRegression()\n",
    "\n",
    "# Split the data into training and validation sets\n",
    "X_train, X_val, y_train, y_val = train_test_split(X, y, test_size=0.3, random_state=42)\n",
    "\n",
    "# Evaluate on validation set\n",
    "mse, r2 = evaluate_model(linreg, X_train, y_train, X_val, y_val)\n",
    "\n",
    "# Print evaluation metrics\n",
    "print(\"Default Linear Regression Performance:\")\n",
    "print(f\"Mean Squared Error (MSE): {mse:.4f}\")\n",
    "print(f\"R-squared (R2): {r2:.4f}\")"
   ]
  },
  {
   "cell_type": "code",
   "execution_count": 14,
   "metadata": {},
   "outputs": [
    {
     "name": "stdout",
     "output_type": "stream",
     "text": [
      "Fitting 5 folds for each of 4 candidates, totalling 20 fits\n",
      "Best Hyperparameters: {'fit_intercept': True, 'normalize': False}\n",
      "\n",
      "Best Linear Regression Performance:\n",
      "Mean Squared Error (MSE): 0.2019\n",
      "R-squared (R2): 0.0660\n"
     ]
    }
   ],
   "source": [
    "# Define hyperparameters to search over\n",
    "param_grid = {\n",
    "    'normalize': [True, False],  # normalize the data (only relevant for certain algorithms)\n",
    "    'fit_intercept': [True, False]  # whether to calculate the intercept for this model\n",
    "}\n",
    "\n",
    "# Initialize GridSearchCV\n",
    "grid_search = GridSearchCV(estimator=LinearRegression(),\n",
    "                           param_grid=param_grid,\n",
    "                           cv=5,  # 5-fold cross-validation\n",
    "                           scoring='neg_mean_squared_error',  # using negative MSE to maximize performance\n",
    "                           verbose=1,\n",
    "                           n_jobs=-1)\n",
    "\n",
    "# Perform grid search to find best hyperparameters\n",
    "grid_search.fit(X_train, y_train)\n",
    "\n",
    "# Get the best linear regression model\n",
    "best_linreg = grid_search.best_estimator_\n",
    "\n",
    "# Print best hyperparameters found\n",
    "print(\"Best Hyperparameters:\", grid_search.best_params_)\n",
    "\n",
    "# Evaluate model with best hyperparameters on validation set\n",
    "best_model = grid_search.best_estimator_\n",
    "mse, r2 = evaluate_model(best_model, X_train, y_train, X_val, y_val)\n",
    "\n",
    "# Print evaluation metrics\n",
    "print(\"\\nBest Linear Regression Performance:\")\n",
    "print(f\"Mean Squared Error (MSE): {mse:.4f}\")\n",
    "print(f\"R-squared (R2): {r2:.4f}\")"
   ]
  },
  {
   "cell_type": "markdown",
   "metadata": {},
   "source": [
    "### Example of decision tree"
   ]
  },
  {
   "cell_type": "code",
   "execution_count": 15,
   "metadata": {},
   "outputs": [],
   "source": [
    "# Define the function for the model\n",
    "def evaluate_model(model, X_train, y_train, X_val, y_val):\n",
    "    model.fit(X_train, y_train)\n",
    "    y_pred = model.predict(X_val)\n",
    "    accuracy = accuracy_score(y_val, y_pred)\n",
    "    precision = precision_score(y_val, y_pred)\n",
    "    recall = recall_score(y_val, y_pred)\n",
    "    f1 = f1_score(y_val, y_pred)\n",
    "    return accuracy, precision, recall, f1, model"
   ]
  },
  {
   "cell_type": "code",
   "execution_count": 16,
   "metadata": {},
   "outputs": [
    {
     "name": "stdout",
     "output_type": "stream",
     "text": [
      "Default Decision Tree Performance:\n",
      "Accuracy: 0.7212\n",
      "Precision: 0.5596\n",
      "Recall: 0.5541\n",
      "F1-score: 0.5568\n"
     ]
    }
   ],
   "source": [
    "# Initialize decision tree classifier\n",
    "dt_clf = DecisionTreeClassifier(random_state=42)\n",
    "\n",
    "# Split the data into training and validation sets\n",
    "X_train, X_val, y_train, y_val = train_test_split(X, y, test_size=0.3, random_state=42)\n",
    "\n",
    "# Evaluate on validation set\n",
    "accuracy, precision, recall, f1, dt_clf = evaluate_model(dt_clf, X_train, y_train, X_val, y_val)\n",
    "\n",
    "# Print evaluation metrics\n",
    "print(\"Default Decision Tree Performance:\")\n",
    "print(f\"Accuracy: {accuracy:.4f}\")\n",
    "print(f\"Precision: {precision:.4f}\")\n",
    "print(f\"Recall: {recall:.4f}\")\n",
    "print(f\"F1-score: {f1:.4f}\")"
   ]
  },
  {
   "cell_type": "code",
   "execution_count": 17,
   "metadata": {},
   "outputs": [
    {
     "name": "stdout",
     "output_type": "stream",
     "text": [
      "Fitting 5 folds for each of 108 candidates, totalling 540 fits\n",
      "Best Hyperparameters: {'criterion': 'gini', 'max_depth': 10, 'min_samples_leaf': 2, 'min_samples_split': 2}\n",
      "\n",
      "Best Decision Tree Performance:\n",
      "Accuracy: 0.7845\n",
      "Precision: 0.7904\n",
      "Recall: 0.4328\n",
      "F1-score: 0.5593\n"
     ]
    }
   ],
   "source": [
    "# Define hyperparameters to search over\n",
    "param_grid = {\n",
    "    'max_depth': [None, 10, 20, 30, 40, 50],\n",
    "    'min_samples_split': [2, 5, 10],\n",
    "    'min_samples_leaf': [1, 2, 4],\n",
    "    'criterion': ['gini', 'entropy']\n",
    "}\n",
    "\n",
    "# Initialize GridSearchCV\n",
    "grid_search = GridSearchCV(estimator=DecisionTreeClassifier(random_state=42),\n",
    "                           param_grid=param_grid,\n",
    "                           cv=5,  # 5-fold cross-validation\n",
    "                           scoring='accuracy',\n",
    "                           verbose=1,\n",
    "                           n_jobs=-1)\n",
    "\n",
    "# Perform grid search to find best hyperparameters\n",
    "grid_search.fit(X_train, y_train)\n",
    "\n",
    "# Print best hyperparameters found\n",
    "print(\"Best Hyperparameters:\", grid_search.best_params_)\n",
    "\n",
    "# Evaluate model with best hyperparameters on validation set\n",
    "best_dt_clf = grid_search.best_estimator_\n",
    "accuracy, precision, recall, f1, best_dt_clf = evaluate_model(best_dt_clf, X_train, y_train, X_val, y_val)\n",
    "\n",
    "# Print evaluation metrics\n",
    "print(\"\\nBest Decision Tree Performance:\")\n",
    "print(f\"Accuracy: {accuracy:.4f}\")\n",
    "print(f\"Precision: {precision:.4f}\")\n",
    "print(f\"Recall: {recall:.4f}\")\n",
    "print(f\"F1-score: {f1:.4f}\")"
   ]
  },
  {
   "cell_type": "markdown",
   "metadata": {},
   "source": [
    "## \n",
    "Sanity check the model. This data is more complex than what you’re used to working with, so it's not an easy task. We'll take a closer look at it later."
   ]
  },
  {
   "cell_type": "code",
   "execution_count": 18,
   "metadata": {},
   "outputs": [
    {
     "name": "stdout",
     "output_type": "stream",
     "text": [
      "Feature: calls, Coefficient: 0.0000\n",
      "Feature: minutes, Coefficient: -0.0002\n",
      "Feature: messages, Coefficient: 0.0037\n",
      "Feature: mb_used, Coefficient: -0.0000\n"
     ]
    },
    {
     "data": {
      "image/png": "[encoded data removed]",
      "text/plain": [
       "<Figure size 640x480 with 1 Axes>"
      ]
     },
     "metadata": {},
     "output_type": "display_data"
    }
   ],
   "source": [
    "# Sanity check for Logistic Regression\n",
    "# Assuming best_logreg is your trained logistic regression model\n",
    "coefficients = best_logreg.coef_[0]\n",
    "feature_names = X.columns\n",
    "\n",
    "for feat, coef in zip(feature_names, coefficients):\n",
    "    print(f\"Feature: {feat}, Coefficient: {coef:.4f}\")\n",
    "    \n",
    "# Predict probabilities on the test set\n",
    "y_pred_prob = best_logreg.predict_proba(X_test)[:, 1]\n",
    "\n",
    "# Check the distribution of predicted probabilities\n",
    "import matplotlib.pyplot as plt\n",
    "\n",
    "plt.hist(y_pred_prob, bins=20)\n",
    "plt.xlabel('Predicted Probability')\n",
    "plt.ylabel('Frequency')\n",
    "plt.title('Distribution of Predicted Probabilities')\n",
    "plt.show()"
   ]
  },
  {
   "cell_type": "code",
   "execution_count": 19,
   "metadata": {},
   "outputs": [
    {
     "name": "stdout",
     "output_type": "stream",
     "text": [
      "Feature: calls, Coefficient: -0.0005\n",
      "Feature: minutes, Coefficient: 0.0004\n",
      "Feature: messages, Coefficient: 0.0021\n",
      "Feature: mb_used, Coefficient: 0.0000\n",
      "Intercept: -0.0425\n"
     ]
    },
    {
     "data": {
      "image/png": "[encoded data removed]",
      "text/plain": [
       "<Figure size 640x480 with 1 Axes>"
      ]
     },
     "metadata": {},
     "output_type": "display_data"
    }
   ],
   "source": [
    "# Sanity check for Linear Regression\n",
    "# Assuming best_linreg is your trained linear regression model\n",
    "coefficients = best_linreg.coef_\n",
    "intercept = best_linreg.intercept_\n",
    "\n",
    "for feat, coef in zip(feature_names, coefficients):\n",
    "    print(f\"Feature: {feat}, Coefficient: {coef:.4f}\")\n",
    "\n",
    "print(f\"Intercept: {intercept:.4f}\")\n",
    "\n",
    "# Predict on test set\n",
    "y_pred = best_linreg.predict(X_test)\n",
    "\n",
    "# Calculate residuals\n",
    "residuals = y_test - y_pred\n",
    "\n",
    "# Plot residuals\n",
    "plt.scatter(y_pred, residuals)\n",
    "plt.axhline(y=0, color='r', linestyle='-')\n",
    "plt.xlabel('Predicted Values')\n",
    "plt.ylabel('Residuals')\n",
    "plt.title('Residual Plot')\n",
    "plt.show()"
   ]
  },
  {
   "cell_type": "code",
   "execution_count": 20,
   "metadata": {},
   "outputs": [
    {
     "name": "stdout",
     "output_type": "stream",
     "text": [
      "Feature: calls, Importance: 0.1146\n",
      "Feature: minutes, Importance: 0.3589\n",
      "Feature: messages, Importance: 0.2093\n",
      "Feature: mb_used, Importance: 0.3172\n",
      "Depth of Decision Tree: 10\n",
      "Number of Nodes in Decision Tree: 189\n"
     ]
    }
   ],
   "source": [
    "# Sanity check for Decision Tree\n",
    "# Assuming best_dt_clf is your trained decision tree classifier\n",
    "feature_importances = best_dt_clf.feature_importances_\n",
    "\n",
    "for feat, importance in zip(feature_names, feature_importances):\n",
    "    print(f\"Feature: {feat}, Importance: {importance:.4f}\")\n",
    "\n",
    "print(f\"Depth of Decision Tree: {best_dt_clf.get_depth()}\")\n",
    "print(f\"Number of Nodes in Decision Tree: {best_dt_clf.tree_.node_count}\")"
   ]
  },
  {
   "cell_type": "markdown",
   "metadata": {},
   "source": [
    "# OVERALL CONCLUSION"
   ]
  },
  {
   "cell_type": "markdown",
   "metadata": {},
   "source": [
    "Megaline is a mobile carrier with different plans for users. Above there is testing for three different machine learning algorithms: Logistic Regression, Linear Regression, and Decision Tree. The accuracy score for all 3 tests are within .05 of the threshold. "
   ]
  }
 ],
 "metadata": {
  "ExecuteTimeLog": [
   {
    "duration": 1223,
    "start_time": "2024-07-10T19:06:44.201Z"
   },
   {
    "duration": 1079,
    "start_time": "2024-07-10T19:07:27.095Z"
   },
   {
    "duration": 1121,
    "start_time": "2024-07-10T19:08:36.988Z"
   },
   {
    "duration": 1072,
    "start_time": "2024-07-10T19:08:38.113Z"
   },
   {
    "duration": 17,
    "start_time": "2024-07-10T19:10:35.727Z"
   },
   {
    "duration": 11,
    "start_time": "2024-07-10T19:10:38.448Z"
   },
   {
    "duration": 14,
    "start_time": "2024-07-10T19:11:02.188Z"
   },
   {
    "duration": 21,
    "start_time": "2024-07-10T19:11:25.224Z"
   },
   {
    "duration": 14,
    "start_time": "2024-07-10T19:11:34.583Z"
   },
   {
    "duration": 13,
    "start_time": "2024-07-10T19:11:38.370Z"
   },
   {
    "duration": 9,
    "start_time": "2024-07-10T19:12:08.160Z"
   },
   {
    "duration": 8,
    "start_time": "2024-07-10T19:12:29.094Z"
   },
   {
    "duration": 30,
    "start_time": "2024-07-10T19:13:34.147Z"
   },
   {
    "duration": 12,
    "start_time": "2024-07-10T19:13:59.844Z"
   },
   {
    "duration": 1241,
    "start_time": "2024-07-10T21:12:41.939Z"
   },
   {
    "duration": 19,
    "start_time": "2024-07-10T21:12:43.183Z"
   },
   {
    "duration": 17,
    "start_time": "2024-07-10T21:12:43.205Z"
   },
   {
    "duration": 20,
    "start_time": "2024-07-10T21:12:43.551Z"
   },
   {
    "duration": 13,
    "start_time": "2024-07-10T21:12:47.958Z"
   },
   {
    "duration": 9,
    "start_time": "2024-07-10T21:12:48.600Z"
   },
   {
    "duration": 416,
    "start_time": "2024-07-10T21:13:40.719Z"
   },
   {
    "duration": 40,
    "start_time": "2024-07-10T21:35:02.372Z"
   },
   {
    "duration": 5,
    "start_time": "2024-07-10T21:35:22.054Z"
   },
   {
    "duration": 1179,
    "start_time": "2024-07-10T21:35:27.489Z"
   },
   {
    "duration": 11,
    "start_time": "2024-07-10T21:35:28.672Z"
   },
   {
    "duration": 14,
    "start_time": "2024-07-10T21:35:28.686Z"
   },
   {
    "duration": 38,
    "start_time": "2024-07-10T21:35:28.705Z"
   },
   {
    "duration": 14,
    "start_time": "2024-07-10T21:35:28.746Z"
   },
   {
    "duration": 12,
    "start_time": "2024-07-10T21:35:28.764Z"
   },
   {
    "duration": 58,
    "start_time": "2024-07-10T21:35:28.780Z"
   },
   {
    "duration": 18,
    "start_time": "2024-07-10T21:35:28.842Z"
   },
   {
    "duration": 451,
    "start_time": "2024-07-10T21:35:28.864Z"
   },
   {
    "duration": 1298,
    "start_time": "2024-07-10T21:37:37.043Z"
   },
   {
    "duration": 314,
    "start_time": "2024-07-11T23:46:18.886Z"
   },
   {
    "duration": 28,
    "start_time": "2024-07-11T23:46:59.745Z"
   },
   {
    "duration": 1178,
    "start_time": "2024-07-11T23:49:19.568Z"
   },
   {
    "duration": 20,
    "start_time": "2024-07-11T23:49:20.751Z"
   },
   {
    "duration": 29,
    "start_time": "2024-07-11T23:49:20.775Z"
   },
   {
    "duration": 20,
    "start_time": "2024-07-11T23:49:20.808Z"
   },
   {
    "duration": 14,
    "start_time": "2024-07-11T23:49:20.833Z"
   },
   {
    "duration": 10,
    "start_time": "2024-07-11T23:49:20.852Z"
   },
   {
    "duration": 11,
    "start_time": "2024-07-11T23:49:20.903Z"
   },
   {
    "duration": 12,
    "start_time": "2024-07-11T23:49:20.918Z"
   },
   {
    "duration": 6243,
    "start_time": "2024-07-11T23:49:20.933Z"
   },
   {
    "duration": 539,
    "start_time": "2024-07-11T23:49:27.181Z"
   },
   {
    "duration": 0,
    "start_time": "2024-07-11T23:49:27.723Z"
   },
   {
    "duration": 0,
    "start_time": "2024-07-11T23:49:27.726Z"
   },
   {
    "duration": 0,
    "start_time": "2024-07-11T23:49:27.731Z"
   },
   {
    "duration": 1183,
    "start_time": "2024-07-11T23:50:51.320Z"
   },
   {
    "duration": 15,
    "start_time": "2024-07-11T23:50:52.506Z"
   },
   {
    "duration": 16,
    "start_time": "2024-07-11T23:50:52.524Z"
   },
   {
    "duration": 20,
    "start_time": "2024-07-11T23:50:52.543Z"
   },
   {
    "duration": 45,
    "start_time": "2024-07-11T23:50:52.565Z"
   },
   {
    "duration": 10,
    "start_time": "2024-07-11T23:50:52.613Z"
   },
   {
    "duration": 9,
    "start_time": "2024-07-11T23:50:52.626Z"
   },
   {
    "duration": 14,
    "start_time": "2024-07-11T23:50:52.638Z"
   },
   {
    "duration": 5931,
    "start_time": "2024-07-11T23:50:52.655Z"
   },
   {
    "duration": 22,
    "start_time": "2024-07-11T23:50:58.590Z"
   },
   {
    "duration": 1257,
    "start_time": "2024-07-11T23:53:08.587Z"
   },
   {
    "duration": 15,
    "start_time": "2024-07-11T23:53:09.847Z"
   },
   {
    "duration": 17,
    "start_time": "2024-07-11T23:53:09.864Z"
   },
   {
    "duration": 19,
    "start_time": "2024-07-11T23:53:09.903Z"
   },
   {
    "duration": 13,
    "start_time": "2024-07-11T23:53:09.927Z"
   },
   {
    "duration": 9,
    "start_time": "2024-07-11T23:53:09.943Z"
   },
   {
    "duration": 49,
    "start_time": "2024-07-11T23:53:09.955Z"
   },
   {
    "duration": 15,
    "start_time": "2024-07-11T23:53:10.007Z"
   },
   {
    "duration": 5958,
    "start_time": "2024-07-11T23:53:10.025Z"
   },
   {
    "duration": 28,
    "start_time": "2024-07-11T23:53:15.987Z"
   },
   {
    "duration": 1182,
    "start_time": "2024-07-11T23:55:02.459Z"
   },
   {
    "duration": 12,
    "start_time": "2024-07-11T23:55:03.644Z"
   },
   {
    "duration": 16,
    "start_time": "2024-07-11T23:55:03.659Z"
   },
   {
    "duration": 40,
    "start_time": "2024-07-11T23:55:03.678Z"
   },
   {
    "duration": 13,
    "start_time": "2024-07-11T23:55:03.723Z"
   },
   {
    "duration": 9,
    "start_time": "2024-07-11T23:55:03.739Z"
   },
   {
    "duration": 54,
    "start_time": "2024-07-11T23:55:03.751Z"
   },
   {
    "duration": 14,
    "start_time": "2024-07-11T23:55:03.808Z"
   },
   {
    "duration": 5846,
    "start_time": "2024-07-11T23:55:03.825Z"
   },
   {
    "duration": 27,
    "start_time": "2024-07-11T23:55:09.674Z"
   },
   {
    "duration": 1268,
    "start_time": "2024-07-11T23:55:30.896Z"
   },
   {
    "duration": 14,
    "start_time": "2024-07-11T23:55:32.168Z"
   },
   {
    "duration": 29,
    "start_time": "2024-07-11T23:55:32.185Z"
   },
   {
    "duration": 24,
    "start_time": "2024-07-11T23:55:32.218Z"
   },
   {
    "duration": 13,
    "start_time": "2024-07-11T23:55:32.247Z"
   },
   {
    "duration": 40,
    "start_time": "2024-07-11T23:55:32.265Z"
   },
   {
    "duration": 10,
    "start_time": "2024-07-11T23:55:32.307Z"
   },
   {
    "duration": 17,
    "start_time": "2024-07-11T23:55:32.320Z"
   },
   {
    "duration": 5991,
    "start_time": "2024-07-11T23:55:32.342Z"
   },
   {
    "duration": 15,
    "start_time": "2024-07-11T23:55:38.336Z"
   },
   {
    "duration": 172086,
    "start_time": "2024-07-11T23:55:38.354Z"
   },
   {
    "duration": 18,
    "start_time": "2024-07-13T18:01:19.697Z"
   },
   {
    "duration": 0,
    "start_time": "2024-07-13T18:01:19.720Z"
   },
   {
    "duration": 0,
    "start_time": "2024-07-13T18:01:19.728Z"
   },
   {
    "duration": 0,
    "start_time": "2024-07-13T18:01:19.730Z"
   },
   {
    "duration": 0,
    "start_time": "2024-07-13T18:01:19.733Z"
   },
   {
    "duration": 0,
    "start_time": "2024-07-13T18:01:19.735Z"
   },
   {
    "duration": 0,
    "start_time": "2024-07-13T18:01:19.737Z"
   },
   {
    "duration": 1,
    "start_time": "2024-07-13T18:01:19.739Z"
   },
   {
    "duration": 0,
    "start_time": "2024-07-13T18:01:19.741Z"
   },
   {
    "duration": 0,
    "start_time": "2024-07-13T18:01:19.743Z"
   },
   {
    "duration": 0,
    "start_time": "2024-07-13T18:01:19.748Z"
   },
   {
    "duration": 0,
    "start_time": "2024-07-13T18:01:19.751Z"
   },
   {
    "duration": 1219,
    "start_time": "2024-07-13T18:01:56.296Z"
   },
   {
    "duration": 18,
    "start_time": "2024-07-13T18:01:57.524Z"
   },
   {
    "duration": 15,
    "start_time": "2024-07-13T18:01:57.545Z"
   },
   {
    "duration": 20,
    "start_time": "2024-07-13T18:01:57.563Z"
   },
   {
    "duration": 42,
    "start_time": "2024-07-13T18:01:57.588Z"
   },
   {
    "duration": 10,
    "start_time": "2024-07-13T18:01:57.634Z"
   },
   {
    "duration": 10,
    "start_time": "2024-07-13T18:01:57.646Z"
   },
   {
    "duration": 13,
    "start_time": "2024-07-13T18:01:57.659Z"
   },
   {
    "duration": 5843,
    "start_time": "2024-07-13T18:01:57.676Z"
   },
   {
    "duration": 16,
    "start_time": "2024-07-13T18:02:03.521Z"
   },
   {
    "duration": 431,
    "start_time": "2024-07-13T18:02:03.539Z"
   },
   {
    "duration": 0,
    "start_time": "2024-07-13T18:02:03.973Z"
   },
   {
    "duration": 5,
    "start_time": "2024-07-13T18:02:26.112Z"
   },
   {
    "duration": 1195,
    "start_time": "2024-07-13T18:02:30.105Z"
   },
   {
    "duration": 19,
    "start_time": "2024-07-13T18:02:31.304Z"
   },
   {
    "duration": 16,
    "start_time": "2024-07-13T18:02:31.326Z"
   },
   {
    "duration": 20,
    "start_time": "2024-07-13T18:02:31.344Z"
   },
   {
    "duration": 54,
    "start_time": "2024-07-13T18:02:31.369Z"
   },
   {
    "duration": 9,
    "start_time": "2024-07-13T18:02:31.426Z"
   },
   {
    "duration": 9,
    "start_time": "2024-07-13T18:02:31.438Z"
   },
   {
    "duration": 13,
    "start_time": "2024-07-13T18:02:31.450Z"
   },
   {
    "duration": 455,
    "start_time": "2024-07-13T18:02:31.469Z"
   },
   {
    "duration": 0,
    "start_time": "2024-07-13T18:02:31.927Z"
   },
   {
    "duration": 0,
    "start_time": "2024-07-13T18:02:31.930Z"
   },
   {
    "duration": 0,
    "start_time": "2024-07-13T18:02:31.931Z"
   },
   {
    "duration": 6,
    "start_time": "2024-07-13T18:03:50.057Z"
   },
   {
    "duration": 10,
    "start_time": "2024-07-13T18:03:50.796Z"
   },
   {
    "duration": 14,
    "start_time": "2024-07-13T18:03:51.317Z"
   },
   {
    "duration": 14,
    "start_time": "2024-07-13T18:03:51.520Z"
   },
   {
    "duration": 14,
    "start_time": "2024-07-13T18:03:51.725Z"
   },
   {
    "duration": 8,
    "start_time": "2024-07-13T18:03:52.265Z"
   },
   {
    "duration": 9,
    "start_time": "2024-07-13T18:03:52.601Z"
   },
   {
    "duration": 14,
    "start_time": "2024-07-13T18:03:53.953Z"
   },
   {
    "duration": 5802,
    "start_time": "2024-07-13T18:03:55.500Z"
   },
   {
    "duration": 23,
    "start_time": "2024-07-13T18:04:01.306Z"
   },
   {
    "duration": 13,
    "start_time": "2024-07-13T18:04:01.333Z"
   },
   {
    "duration": 14,
    "start_time": "2024-07-13T18:04:01.683Z"
   },
   {
    "duration": 1273,
    "start_time": "2024-07-13T18:04:09.339Z"
   },
   {
    "duration": 16,
    "start_time": "2024-07-13T18:04:10.615Z"
   },
   {
    "duration": 17,
    "start_time": "2024-07-13T18:04:10.636Z"
   },
   {
    "duration": 23,
    "start_time": "2024-07-13T18:04:10.657Z"
   },
   {
    "duration": 49,
    "start_time": "2024-07-13T18:04:10.684Z"
   },
   {
    "duration": 12,
    "start_time": "2024-07-13T18:04:10.736Z"
   },
   {
    "duration": 10,
    "start_time": "2024-07-13T18:04:10.753Z"
   },
   {
    "duration": 57,
    "start_time": "2024-07-13T18:04:10.767Z"
   },
   {
    "duration": 5922,
    "start_time": "2024-07-13T18:04:10.827Z"
   },
   {
    "duration": 15,
    "start_time": "2024-07-13T18:04:16.752Z"
   },
   {
    "duration": 14,
    "start_time": "2024-07-13T18:04:16.770Z"
   },
   {
    "duration": 42,
    "start_time": "2024-07-13T18:04:16.788Z"
   },
   {
    "duration": 16,
    "start_time": "2024-07-13T18:05:29.085Z"
   },
   {
    "duration": 1162,
    "start_time": "2024-07-13T18:21:14.066Z"
   },
   {
    "duration": 13,
    "start_time": "2024-07-13T18:21:15.231Z"
   },
   {
    "duration": 16,
    "start_time": "2024-07-13T18:21:15.247Z"
   },
   {
    "duration": 19,
    "start_time": "2024-07-13T18:21:15.267Z"
   },
   {
    "duration": 42,
    "start_time": "2024-07-13T18:21:15.290Z"
   },
   {
    "duration": 9,
    "start_time": "2024-07-13T18:21:15.335Z"
   },
   {
    "duration": 9,
    "start_time": "2024-07-13T18:21:15.347Z"
   },
   {
    "duration": 12,
    "start_time": "2024-07-13T18:21:15.358Z"
   },
   {
    "duration": 53,
    "start_time": "2024-07-13T18:21:15.373Z"
   },
   {
    "duration": 55,
    "start_time": "2024-07-13T18:21:15.430Z"
   },
   {
    "duration": 4041,
    "start_time": "2024-07-13T18:21:15.488Z"
   },
   {
    "duration": 3,
    "start_time": "2024-07-13T18:21:19.533Z"
   },
   {
    "duration": 3,
    "start_time": "2024-07-13T18:21:19.540Z"
   },
   {
    "duration": 5,
    "start_time": "2024-07-13T18:21:22.066Z"
   },
   {
    "duration": 1167,
    "start_time": "2024-07-13T18:25:27.396Z"
   },
   {
    "duration": 23,
    "start_time": "2024-07-13T18:25:28.567Z"
   },
   {
    "duration": 17,
    "start_time": "2024-07-13T18:25:28.592Z"
   },
   {
    "duration": 29,
    "start_time": "2024-07-13T18:25:28.613Z"
   },
   {
    "duration": 14,
    "start_time": "2024-07-13T18:25:28.647Z"
   },
   {
    "duration": 10,
    "start_time": "2024-07-13T18:25:28.664Z"
   },
   {
    "duration": 51,
    "start_time": "2024-07-13T18:25:28.678Z"
   },
   {
    "duration": 15,
    "start_time": "2024-07-13T18:25:28.731Z"
   },
   {
    "duration": 6,
    "start_time": "2024-07-13T18:25:28.749Z"
   },
   {
    "duration": 96,
    "start_time": "2024-07-13T18:25:28.758Z"
   },
   {
    "duration": 3934,
    "start_time": "2024-07-13T18:25:28.857Z"
   },
   {
    "duration": 5,
    "start_time": "2024-07-13T18:25:32.794Z"
   },
   {
    "duration": 32,
    "start_time": "2024-07-13T18:25:32.802Z"
   },
   {
    "duration": 137,
    "start_time": "2024-07-13T18:25:32.839Z"
   },
   {
    "duration": 4,
    "start_time": "2024-07-13T18:27:28.490Z"
   },
   {
    "duration": 1219,
    "start_time": "2024-07-13T18:29:06.853Z"
   },
   {
    "duration": 13,
    "start_time": "2024-07-13T18:29:08.076Z"
   },
   {
    "duration": 35,
    "start_time": "2024-07-13T18:29:08.092Z"
   },
   {
    "duration": 24,
    "start_time": "2024-07-13T18:29:08.131Z"
   },
   {
    "duration": 15,
    "start_time": "2024-07-13T18:29:08.160Z"
   },
   {
    "duration": 47,
    "start_time": "2024-07-13T18:29:08.178Z"
   },
   {
    "duration": 11,
    "start_time": "2024-07-13T18:29:08.230Z"
   },
   {
    "duration": 18,
    "start_time": "2024-07-13T18:29:08.243Z"
   },
   {
    "duration": 5,
    "start_time": "2024-07-13T18:29:08.264Z"
   },
   {
    "duration": 101,
    "start_time": "2024-07-13T18:29:08.273Z"
   },
   {
    "duration": 4011,
    "start_time": "2024-07-13T18:29:08.377Z"
   },
   {
    "duration": 5,
    "start_time": "2024-07-13T18:29:12.392Z"
   },
   {
    "duration": 32,
    "start_time": "2024-07-13T18:29:12.401Z"
   },
   {
    "duration": 151,
    "start_time": "2024-07-13T18:29:12.438Z"
   },
   {
    "duration": 5,
    "start_time": "2024-07-13T18:29:12.592Z"
   },
   {
    "duration": 52,
    "start_time": "2024-07-13T18:29:12.601Z"
   },
   {
    "duration": 9521,
    "start_time": "2024-07-13T18:29:12.656Z"
   },
   {
    "duration": 419,
    "start_time": "2024-07-13T18:32:47.454Z"
   },
   {
    "duration": 1275,
    "start_time": "2024-07-13T18:33:17.403Z"
   },
   {
    "duration": 12,
    "start_time": "2024-07-13T18:33:18.682Z"
   },
   {
    "duration": 33,
    "start_time": "2024-07-13T18:33:18.696Z"
   },
   {
    "duration": 22,
    "start_time": "2024-07-13T18:33:18.732Z"
   },
   {
    "duration": 15,
    "start_time": "2024-07-13T18:33:18.760Z"
   },
   {
    "duration": 47,
    "start_time": "2024-07-13T18:33:18.778Z"
   },
   {
    "duration": 10,
    "start_time": "2024-07-13T18:33:18.829Z"
   },
   {
    "duration": 13,
    "start_time": "2024-07-13T18:33:18.843Z"
   },
   {
    "duration": 6,
    "start_time": "2024-07-13T18:33:18.861Z"
   },
   {
    "duration": 100,
    "start_time": "2024-07-13T18:33:18.871Z"
   },
   {
    "duration": 4087,
    "start_time": "2024-07-13T18:33:18.975Z"
   },
   {
    "duration": 5,
    "start_time": "2024-07-13T18:33:23.065Z"
   },
   {
    "duration": 15,
    "start_time": "2024-07-13T18:33:23.074Z"
   },
   {
    "duration": 162,
    "start_time": "2024-07-13T18:33:23.094Z"
   },
   {
    "duration": 7,
    "start_time": "2024-07-13T18:33:23.260Z"
   },
   {
    "duration": 57,
    "start_time": "2024-07-13T18:33:23.271Z"
   },
   {
    "duration": 9483,
    "start_time": "2024-07-13T18:33:23.332Z"
   },
   {
    "duration": 430,
    "start_time": "2024-07-13T18:33:32.822Z"
   },
   {
    "duration": 3975,
    "start_time": "2024-07-13T18:35:31.588Z"
   },
   {
    "duration": 5,
    "start_time": "2024-07-13T18:38:17.813Z"
   },
   {
    "duration": 6,
    "start_time": "2024-07-13T18:43:25.036Z"
   },
   {
    "duration": 30,
    "start_time": "2024-07-13T18:43:48.407Z"
   },
   {
    "duration": 1235,
    "start_time": "2024-07-13T18:43:56.909Z"
   },
   {
    "duration": 14,
    "start_time": "2024-07-13T18:43:58.147Z"
   },
   {
    "duration": 15,
    "start_time": "2024-07-13T18:43:58.163Z"
   },
   {
    "duration": 43,
    "start_time": "2024-07-13T18:43:58.181Z"
   },
   {
    "duration": 13,
    "start_time": "2024-07-13T18:43:58.228Z"
   },
   {
    "duration": 9,
    "start_time": "2024-07-13T18:43:58.244Z"
   },
   {
    "duration": 9,
    "start_time": "2024-07-13T18:43:58.256Z"
   },
   {
    "duration": 57,
    "start_time": "2024-07-13T18:43:58.269Z"
   },
   {
    "duration": 5,
    "start_time": "2024-07-13T18:43:58.329Z"
   },
   {
    "duration": 53,
    "start_time": "2024-07-13T18:43:58.338Z"
   },
   {
    "duration": 3880,
    "start_time": "2024-07-13T18:43:58.395Z"
   },
   {
    "duration": 5,
    "start_time": "2024-07-13T18:44:02.278Z"
   },
   {
    "duration": 38,
    "start_time": "2024-07-13T18:44:02.285Z"
   },
   {
    "duration": 125,
    "start_time": "2024-07-13T18:44:02.328Z"
   },
   {
    "duration": 7,
    "start_time": "2024-07-13T18:44:02.457Z"
   },
   {
    "duration": 56,
    "start_time": "2024-07-13T18:44:02.467Z"
   },
   {
    "duration": 9124,
    "start_time": "2024-07-13T18:44:02.526Z"
   },
   {
    "duration": 414,
    "start_time": "2024-07-13T18:44:11.653Z"
   },
   {
    "duration": 28,
    "start_time": "2024-07-13T18:55:15.663Z"
   },
   {
    "duration": 26,
    "start_time": "2024-07-13T18:56:38.116Z"
   },
   {
    "duration": 1245,
    "start_time": "2024-07-13T18:56:49.215Z"
   },
   {
    "duration": 12,
    "start_time": "2024-07-13T18:56:50.464Z"
   },
   {
    "duration": 15,
    "start_time": "2024-07-13T18:56:50.479Z"
   },
   {
    "duration": 42,
    "start_time": "2024-07-13T18:56:50.498Z"
   },
   {
    "duration": 13,
    "start_time": "2024-07-13T18:56:50.546Z"
   },
   {
    "duration": 8,
    "start_time": "2024-07-13T18:56:50.562Z"
   },
   {
    "duration": 8,
    "start_time": "2024-07-13T18:56:50.576Z"
   },
   {
    "duration": 14,
    "start_time": "2024-07-13T18:56:50.623Z"
   },
   {
    "duration": 5,
    "start_time": "2024-07-13T18:56:50.640Z"
   },
   {
    "duration": 82,
    "start_time": "2024-07-13T18:56:50.648Z"
   },
   {
    "duration": 3874,
    "start_time": "2024-07-13T18:56:50.733Z"
   },
   {
    "duration": 14,
    "start_time": "2024-07-13T18:56:54.609Z"
   },
   {
    "duration": 16,
    "start_time": "2024-07-13T18:56:54.626Z"
   },
   {
    "duration": 143,
    "start_time": "2024-07-13T18:56:54.648Z"
   },
   {
    "duration": 6,
    "start_time": "2024-07-13T18:56:54.794Z"
   },
   {
    "duration": 49,
    "start_time": "2024-07-13T18:56:54.803Z"
   },
   {
    "duration": 9178,
    "start_time": "2024-07-13T18:56:54.855Z"
   },
   {
    "duration": 414,
    "start_time": "2024-07-13T18:57:04.036Z"
   },
   {
    "duration": 0,
    "start_time": "2024-07-13T18:57:04.453Z"
   },
   {
    "duration": 0,
    "start_time": "2024-07-13T18:57:04.456Z"
   },
   {
    "duration": 3871,
    "start_time": "2024-07-13T18:58:34.432Z"
   },
   {
    "duration": 1154,
    "start_time": "2024-07-13T18:58:43.287Z"
   },
   {
    "duration": 11,
    "start_time": "2024-07-13T18:58:44.445Z"
   },
   {
    "duration": 15,
    "start_time": "2024-07-13T18:58:44.458Z"
   },
   {
    "duration": 48,
    "start_time": "2024-07-13T18:58:44.476Z"
   },
   {
    "duration": 13,
    "start_time": "2024-07-13T18:58:44.529Z"
   },
   {
    "duration": 9,
    "start_time": "2024-07-13T18:58:44.545Z"
   },
   {
    "duration": 8,
    "start_time": "2024-07-13T18:58:44.558Z"
   },
   {
    "duration": 54,
    "start_time": "2024-07-13T18:58:44.569Z"
   },
   {
    "duration": 5,
    "start_time": "2024-07-13T18:58:44.627Z"
   },
   {
    "duration": 56,
    "start_time": "2024-07-13T18:58:44.635Z"
   },
   {
    "duration": 3858,
    "start_time": "2024-07-13T18:58:44.694Z"
   },
   {
    "duration": 5,
    "start_time": "2024-07-13T18:58:48.555Z"
   },
   {
    "duration": 15,
    "start_time": "2024-07-13T18:58:48.563Z"
   },
   {
    "duration": 146,
    "start_time": "2024-07-13T18:58:48.584Z"
   },
   {
    "duration": 5,
    "start_time": "2024-07-13T18:58:48.733Z"
   },
   {
    "duration": 35,
    "start_time": "2024-07-13T18:58:48.741Z"
   },
   {
    "duration": 9156,
    "start_time": "2024-07-13T18:58:48.779Z"
   },
   {
    "duration": 4233,
    "start_time": "2024-07-13T18:58:57.938Z"
   },
   {
    "duration": 511,
    "start_time": "2024-07-13T18:59:02.175Z"
   },
   {
    "duration": 0,
    "start_time": "2024-07-13T18:59:02.689Z"
   },
   {
    "duration": 136,
    "start_time": "2024-07-13T19:00:32.377Z"
   },
   {
    "duration": 363,
    "start_time": "2024-07-13T19:00:56.578Z"
   },
   {
    "duration": 1220,
    "start_time": "2024-07-13T19:01:06.032Z"
   },
   {
    "duration": 12,
    "start_time": "2024-07-13T19:01:07.256Z"
   },
   {
    "duration": 16,
    "start_time": "2024-07-13T19:01:07.272Z"
   },
   {
    "duration": 51,
    "start_time": "2024-07-13T19:01:07.291Z"
   },
   {
    "duration": 15,
    "start_time": "2024-07-13T19:01:07.347Z"
   },
   {
    "duration": 10,
    "start_time": "2024-07-13T19:01:07.365Z"
   },
   {
    "duration": 45,
    "start_time": "2024-07-13T19:01:07.378Z"
   },
   {
    "duration": 13,
    "start_time": "2024-07-13T19:01:07.426Z"
   },
   {
    "duration": 5,
    "start_time": "2024-07-13T19:01:07.442Z"
   },
   {
    "duration": 89,
    "start_time": "2024-07-13T19:01:07.450Z"
   },
   {
    "duration": 3962,
    "start_time": "2024-07-13T19:01:07.542Z"
   },
   {
    "duration": 17,
    "start_time": "2024-07-13T19:01:11.508Z"
   },
   {
    "duration": 15,
    "start_time": "2024-07-13T19:01:11.529Z"
   },
   {
    "duration": 153,
    "start_time": "2024-07-13T19:01:11.549Z"
   },
   {
    "duration": 18,
    "start_time": "2024-07-13T19:01:11.705Z"
   },
   {
    "duration": 35,
    "start_time": "2024-07-13T19:01:11.725Z"
   },
   {
    "duration": 9291,
    "start_time": "2024-07-13T19:01:11.762Z"
   },
   {
    "duration": 568,
    "start_time": "2024-07-13T19:01:21.057Z"
   },
   {
    "duration": 328,
    "start_time": "2024-07-13T19:01:21.628Z"
   },
   {
    "duration": 6,
    "start_time": "2024-07-13T19:01:21.959Z"
   },
   {
    "duration": 1280,
    "start_time": "2024-07-14T09:30:55.769Z"
   },
   {
    "duration": 20,
    "start_time": "2024-07-14T09:30:57.053Z"
   },
   {
    "duration": 27,
    "start_time": "2024-07-14T09:30:57.075Z"
   },
   {
    "duration": 21,
    "start_time": "2024-07-14T09:30:57.107Z"
   },
   {
    "duration": 14,
    "start_time": "2024-07-14T09:30:57.131Z"
   },
   {
    "duration": 10,
    "start_time": "2024-07-14T09:30:57.148Z"
   },
   {
    "duration": 49,
    "start_time": "2024-07-14T09:30:57.162Z"
   },
   {
    "duration": 15,
    "start_time": "2024-07-14T09:30:57.215Z"
   },
   {
    "duration": 6,
    "start_time": "2024-07-14T09:30:57.233Z"
   },
   {
    "duration": 105,
    "start_time": "2024-07-14T09:30:57.245Z"
   },
   {
    "duration": 3934,
    "start_time": "2024-07-14T09:30:57.353Z"
   },
   {
    "duration": 5,
    "start_time": "2024-07-14T09:31:01.303Z"
   },
   {
    "duration": 16,
    "start_time": "2024-07-14T09:31:01.311Z"
   },
   {
    "duration": 159,
    "start_time": "2024-07-14T09:31:01.329Z"
   },
   {
    "duration": 5,
    "start_time": "2024-07-14T09:31:01.501Z"
   },
   {
    "duration": 35,
    "start_time": "2024-07-14T09:31:01.511Z"
   },
   {
    "duration": 9525,
    "start_time": "2024-07-14T09:31:01.549Z"
   },
   {
    "duration": 4342,
    "start_time": "2024-07-14T09:31:11.077Z"
   },
   {
    "duration": 357,
    "start_time": "2024-07-14T09:31:15.423Z"
   },
   {
    "duration": 18,
    "start_time": "2024-07-14T09:31:15.783Z"
   }
  ],
  "kernelspec": {
   "display_name": "Python 3 (ipykernel)",
   "language": "python",
   "name": "python3"
  },
  "language_info": {
   "codemirror_mode": {
    "name": "ipython",
    "version": 3
   },
   "file_extension": ".py",
   "mimetype": "text/x-python",
   "name": "python",
   "nbconvert_exporter": "python",
   "pygments_lexer": "ipython3",
   "version": "3.9.19"
  },
  "toc": {
   "base_numbering": 1,
   "nav_menu": {},
   "number_sections": true,
   "sideBar": true,
   "skip_h1_title": true,
   "title_cell": "Table of Contents",
   "title_sidebar": "Contents",
   "toc_cell": false,
   "toc_position": {},
   "toc_section_display": true,
   "toc_window_display": false
  }
 },
 "nbformat": 4,
 "nbformat_minor": 2
}
